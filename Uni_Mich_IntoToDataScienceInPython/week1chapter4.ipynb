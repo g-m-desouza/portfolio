{
 "cells": [
  {
   "cell_type": "code",
   "execution_count": 1,
   "id": "54f3307f",
   "metadata": {},
   "outputs": [],
   "source": [
    "import numpy as np"
   ]
  },
  {
   "cell_type": "code",
   "execution_count": 23,
   "id": "cd4f6bed",
   "metadata": {},
   "outputs": [],
   "source": [
    "data = np.random.rand(2,3)"
   ]
  },
  {
   "cell_type": "code",
   "execution_count": 24,
   "id": "3e659b2b",
   "metadata": {},
   "outputs": [
    {
     "data": {
      "text/plain": [
       "array([[0.49087514, 0.1970606 , 0.99345483],\n",
       "       [0.83036601, 0.88917404, 0.67834759]])"
      ]
     },
     "execution_count": 24,
     "metadata": {},
     "output_type": "execute_result"
    }
   ],
   "source": [
    "data"
   ]
  },
  {
   "cell_type": "code",
   "execution_count": 36,
   "id": "3581394d",
   "metadata": {},
   "outputs": [],
   "source": [
    "data2 = [[1,2,3,4,5],[6,7,8,9,10],[11,12,13,14,15]]"
   ]
  },
  {
   "cell_type": "code",
   "execution_count": 37,
   "id": "d7c54b34",
   "metadata": {},
   "outputs": [],
   "source": [
    "arr2 = np.array(data2)"
   ]
  },
  {
   "cell_type": "code",
   "execution_count": 38,
   "id": "1fb625b7",
   "metadata": {},
   "outputs": [
    {
     "data": {
      "text/plain": [
       "array([[ 1,  2,  3,  4,  5],\n",
       "       [ 6,  7,  8,  9, 10],\n",
       "       [11, 12, 13, 14, 15]])"
      ]
     },
     "execution_count": 38,
     "metadata": {},
     "output_type": "execute_result"
    }
   ],
   "source": [
    "arr2"
   ]
  },
  {
   "cell_type": "code",
   "execution_count": 39,
   "id": "1499ef5c",
   "metadata": {},
   "outputs": [
    {
     "data": {
      "text/plain": [
       "2"
      ]
     },
     "execution_count": 39,
     "metadata": {},
     "output_type": "execute_result"
    }
   ],
   "source": [
    "arr2.ndim"
   ]
  },
  {
   "cell_type": "code",
   "execution_count": 40,
   "id": "32941697",
   "metadata": {},
   "outputs": [
    {
     "data": {
      "text/plain": [
       "(3, 5)"
      ]
     },
     "execution_count": 40,
     "metadata": {},
     "output_type": "execute_result"
    }
   ],
   "source": [
    "arr2.shape"
   ]
  },
  {
   "cell_type": "markdown",
   "id": "df0d5871",
   "metadata": {},
   "source": []
  },
  {
   "cell_type": "code",
   "execution_count": 58,
   "id": "33063fd3",
   "metadata": {},
   "outputs": [
    {
     "data": {
      "text/plain": [
       "array([[[0.82723236, 0.09165348],\n",
       "        [0.69932116, 0.34640982],\n",
       "        [0.41807556, 0.96173407]],\n",
       "\n",
       "       [[0.94862716, 0.38961518],\n",
       "        [0.13053918, 0.30727064],\n",
       "        [0.94363567, 0.68563184]]])"
      ]
     },
     "execution_count": 58,
     "metadata": {},
     "output_type": "execute_result"
    }
   ],
   "source": [
    " np.empty((2,3,2))"
   ]
  },
  {
   "cell_type": "code",
   "execution_count": 56,
   "id": "891fa89e",
   "metadata": {},
   "outputs": [
    {
     "data": {
      "text/plain": [
       "array([[0., 0., 0., 0., 0., 0.],\n",
       "       [0., 0., 0., 0., 0., 0.],\n",
       "       [0., 0., 0., 0., 0., 0.]])"
      ]
     },
     "execution_count": 56,
     "metadata": {},
     "output_type": "execute_result"
    }
   ],
   "source": [
    "np.zeros((3,6))"
   ]
  },
  {
   "cell_type": "code",
   "execution_count": 71,
   "id": "d34f9fd5",
   "metadata": {},
   "outputs": [],
   "source": [
    "array1 = np.array([[1,2],[3,4]])"
   ]
  },
  {
   "cell_type": "code",
   "execution_count": 72,
   "id": "fc45b3ce",
   "metadata": {},
   "outputs": [
    {
     "data": {
      "text/plain": [
       "numpy.ndarray"
      ]
     },
     "execution_count": 72,
     "metadata": {},
     "output_type": "execute_result"
    }
   ],
   "source": [
    "type(array1)"
   ]
  },
  {
   "cell_type": "code",
   "execution_count": 67,
   "id": "7196ac62",
   "metadata": {},
   "outputs": [],
   "source": [
    "x = np.asarray([[1,2,3],[1,2,3]])"
   ]
  },
  {
   "cell_type": "code",
   "execution_count": 68,
   "id": "eafdcdb4",
   "metadata": {},
   "outputs": [
    {
     "data": {
      "text/plain": [
       "numpy.ndarray"
      ]
     },
     "execution_count": 68,
     "metadata": {},
     "output_type": "execute_result"
    }
   ],
   "source": [
    "type(x)"
   ]
  },
  {
   "cell_type": "code",
   "execution_count": 78,
   "id": "39653fc8",
   "metadata": {},
   "outputs": [
    {
     "data": {
      "text/plain": [
       "array([1. , 1.1, 1.2, 1.3, 1.4, 1.5, 1.6, 1.7, 1.8, 1.9])"
      ]
     },
     "execution_count": 78,
     "metadata": {},
     "output_type": "execute_result"
    }
   ],
   "source": [
    "np.arange(1,2,0.1)"
   ]
  },
  {
   "cell_type": "code",
   "execution_count": 84,
   "id": "8898174b",
   "metadata": {},
   "outputs": [
    {
     "data": {
      "text/plain": [
       "array([[1., 1.],\n",
       "       [1., 1.],\n",
       "       [1., 1.],\n",
       "       [1., 1.],\n",
       "       [1., 1.]])"
      ]
     },
     "execution_count": 84,
     "metadata": {},
     "output_type": "execute_result"
    }
   ],
   "source": [
    "np.ones((5,2))"
   ]
  },
  {
   "cell_type": "code",
   "execution_count": 85,
   "id": "9c833739",
   "metadata": {},
   "outputs": [],
   "source": [
    "arr1 = np.array([1,2,3])"
   ]
  },
  {
   "cell_type": "code",
   "execution_count": 89,
   "id": "52313867",
   "metadata": {},
   "outputs": [],
   "source": [
    "arr1 = np.array([1.2532,2.3254445,3.9999999999,4.2232335458875552], dtype=np.float16)"
   ]
  },
  {
   "cell_type": "code",
   "execution_count": 90,
   "id": "c4b2de95",
   "metadata": {},
   "outputs": [
    {
     "data": {
      "text/plain": [
       "dtype('float16')"
      ]
     },
     "execution_count": 90,
     "metadata": {},
     "output_type": "execute_result"
    }
   ],
   "source": [
    "arr1.dtype"
   ]
  },
  {
   "cell_type": "code",
   "execution_count": 93,
   "id": "8f3a4221",
   "metadata": {},
   "outputs": [],
   "source": [
    "empty_uint32 = np.empty(8,dtype=\"u4\")"
   ]
  },
  {
   "cell_type": "code",
   "execution_count": 94,
   "id": "12331532",
   "metadata": {},
   "outputs": [
    {
     "data": {
      "text/plain": [
       "array([    0,     1,     0,   635,   964,     0,   768, 32764],\n",
       "      dtype=uint32)"
      ]
     },
     "execution_count": 94,
     "metadata": {},
     "output_type": "execute_result"
    }
   ],
   "source": [
    "empty_uint32"
   ]
  },
  {
   "cell_type": "code",
   "execution_count": 97,
   "id": "1a1ad796",
   "metadata": {},
   "outputs": [],
   "source": [
    "carr1 = np.array([0.,1.2,2.3,0.1,0.2])"
   ]
  },
  {
   "cell_type": "code",
   "execution_count": 98,
   "id": "86aecabd",
   "metadata": {},
   "outputs": [],
   "source": [
    "carr2 = np.array([0.,2.3,5,1.2,0.1])"
   ]
  },
  {
   "cell_type": "code",
   "execution_count": 99,
   "id": "08419fbb",
   "metadata": {},
   "outputs": [
    {
     "data": {
      "text/plain": [
       "array([False, False, False, False,  True])"
      ]
     },
     "execution_count": 99,
     "metadata": {},
     "output_type": "execute_result"
    }
   ],
   "source": [
    "carr1 > carr2"
   ]
  },
  {
   "cell_type": "markdown",
   "id": "3e02185a",
   "metadata": {},
   "source": [
    "# #Basic indexing"
   ]
  },
  {
   "cell_type": "code",
   "execution_count": 100,
   "id": "5bcea015",
   "metadata": {},
   "outputs": [],
   "source": [
    "arr = np.array([0,1,2,3,4,5,6,7,8,9])"
   ]
  },
  {
   "cell_type": "code",
   "execution_count": 103,
   "id": "cd5c596d",
   "metadata": {},
   "outputs": [],
   "source": [
    "slice_arr= arr[3:5]"
   ]
  },
  {
   "cell_type": "code",
   "execution_count": 104,
   "id": "c4113147",
   "metadata": {},
   "outputs": [
    {
     "data": {
      "text/plain": [
       "array([3, 4])"
      ]
     },
     "execution_count": 104,
     "metadata": {},
     "output_type": "execute_result"
    }
   ],
   "source": [
    "slice_arr"
   ]
  },
  {
   "cell_type": "code",
   "execution_count": 105,
   "id": "8e828add",
   "metadata": {},
   "outputs": [],
   "source": [
    "slice_arr[:] = 12"
   ]
  },
  {
   "cell_type": "code",
   "execution_count": 106,
   "id": "e8c0e045",
   "metadata": {},
   "outputs": [
    {
     "data": {
      "text/plain": [
       "array([12, 12])"
      ]
     },
     "execution_count": 106,
     "metadata": {},
     "output_type": "execute_result"
    }
   ],
   "source": [
    "slice_arr"
   ]
  },
  {
   "cell_type": "code",
   "execution_count": 107,
   "id": "cf77c1dc",
   "metadata": {},
   "outputs": [
    {
     "data": {
      "text/plain": [
       "array([ 0,  1,  2, 12, 12,  5,  6,  7,  8,  9])"
      ]
     },
     "execution_count": 107,
     "metadata": {},
     "output_type": "execute_result"
    }
   ],
   "source": [
    "arr"
   ]
  },
  {
   "cell_type": "code",
   "execution_count": 27,
   "id": "702ca429",
   "metadata": {},
   "outputs": [],
   "source": [
    "shapre = np.array([[[1,2,3,4],[1,2,3,4]],[[5,6,7,8],[5,6,7,8]],[[9,11,11,12],[9,10,11,12]]])"
   ]
  },
  {
   "cell_type": "code",
   "execution_count": 28,
   "id": "c72c17f7",
   "metadata": {},
   "outputs": [
    {
     "data": {
      "text/plain": [
       "array([[ 9, 11, 11, 12],\n",
       "       [ 9, 10, 11, 12]])"
      ]
     },
     "execution_count": 28,
     "metadata": {},
     "output_type": "execute_result"
    }
   ],
   "source": [
    "shapre[2]"
   ]
  },
  {
   "cell_type": "code",
   "execution_count": 29,
   "id": "f2939da2",
   "metadata": {},
   "outputs": [
    {
     "data": {
      "text/plain": [
       "array([[[ 9, 11, 11, 12],\n",
       "        [ 9, 10, 11, 12]]])"
      ]
     },
     "execution_count": 29,
     "metadata": {},
     "output_type": "execute_result"
    }
   ],
   "source": [
    "shapre[2:]"
   ]
  },
  {
   "cell_type": "code",
   "execution_count": 30,
   "id": "2efd9cdd",
   "metadata": {},
   "outputs": [
    {
     "data": {
      "text/plain": [
       "array([[[ 9, 11, 11, 12]]])"
      ]
     },
     "execution_count": 30,
     "metadata": {},
     "output_type": "execute_result"
    }
   ],
   "source": [
    "shapre[2:,:1]"
   ]
  },
  {
   "cell_type": "code",
   "execution_count": 32,
   "id": "9bffa8c2",
   "metadata": {},
   "outputs": [
    {
     "data": {
      "text/plain": [
       "array([], shape=(0, 4), dtype=int32)"
      ]
     },
     "execution_count": 32,
     "metadata": {},
     "output_type": "execute_result"
    }
   ],
   "source": [
    "shapre[1:1,1]"
   ]
  },
  {
   "cell_type": "code",
   "execution_count": 90,
   "id": "655d8998",
   "metadata": {},
   "outputs": [],
   "source": [
    "names=np.array(['Bob','Joe','Will','H','Will','Joe','Joe'],dtype ='<U4')"
   ]
  },
  {
   "cell_type": "code",
   "execution_count": 91,
   "id": "3cae6ef7",
   "metadata": {},
   "outputs": [],
   "source": [
    "data = np.random.randn(7,4)"
   ]
  },
  {
   "cell_type": "code",
   "execution_count": 92,
   "id": "a7163874",
   "metadata": {},
   "outputs": [
    {
     "data": {
      "text/plain": [
       "array([[ 1.08768162, -0.66670718, -0.6543379 , -1.78092588],\n",
       "       [-1.09514992,  1.37816997,  0.08027418, -0.01234156],\n",
       "       [-0.47264534,  0.188934  ,  0.04967906,  0.94725963],\n",
       "       [-0.90964622, -0.16307843,  0.53755273,  0.70155658],\n",
       "       [ 0.11893997,  1.07700685,  1.10368336,  0.15840043],\n",
       "       [ 0.88755424, -0.86408013,  0.30706595, -0.61671093],\n",
       "       [ 0.19398045, -1.422772  , -0.91232909,  2.13069933]])"
      ]
     },
     "execution_count": 92,
     "metadata": {},
     "output_type": "execute_result"
    }
   ],
   "source": [
    "data"
   ]
  },
  {
   "cell_type": "code",
   "execution_count": 93,
   "id": "1bd36548",
   "metadata": {},
   "outputs": [
    {
     "data": {
      "text/plain": [
       "array([ True, False, False, False, False, False, False])"
      ]
     },
     "execution_count": 93,
     "metadata": {},
     "output_type": "execute_result"
    }
   ],
   "source": [
    "names == 'Bob'"
   ]
  },
  {
   "cell_type": "code",
   "execution_count": 94,
   "id": "4e81768f",
   "metadata": {},
   "outputs": [
    {
     "data": {
      "text/plain": [
       "array([[ 1.08768162, -0.66670718, -0.6543379 , -1.78092588]])"
      ]
     },
     "execution_count": 94,
     "metadata": {},
     "output_type": "execute_result"
    }
   ],
   "source": [
    "data[names == 'Bob']"
   ]
  },
  {
   "cell_type": "code",
   "execution_count": 95,
   "id": "0decf79d",
   "metadata": {},
   "outputs": [
    {
     "data": {
      "text/plain": [
       "array([[-0.6543379 , -1.78092588]])"
      ]
     },
     "execution_count": 95,
     "metadata": {},
     "output_type": "execute_result"
    }
   ],
   "source": [
    "data[names == 'Bob',2:]"
   ]
  },
  {
   "cell_type": "code",
   "execution_count": 96,
   "id": "4ae150b9",
   "metadata": {},
   "outputs": [],
   "source": [
    "arr = np.empty((8,4))"
   ]
  },
  {
   "cell_type": "code",
   "execution_count": null,
   "id": "a53d7a32",
   "metadata": {},
   "outputs": [],
   "source": []
  },
  {
   "cell_type": "code",
   "execution_count": 97,
   "id": "15f9bc15",
   "metadata": {},
   "outputs": [
    {
     "data": {
      "text/plain": [
       "array([[0., 0., 0., 0.],\n",
       "       [1., 1., 1., 1.],\n",
       "       [2., 2., 2., 2.],\n",
       "       [3., 3., 3., 3.],\n",
       "       [4., 4., 4., 4.],\n",
       "       [5., 5., 5., 5.],\n",
       "       [6., 6., 6., 6.],\n",
       "       [7., 7., 7., 7.]])"
      ]
     },
     "execution_count": 97,
     "metadata": {},
     "output_type": "execute_result"
    }
   ],
   "source": [
    "arr"
   ]
  },
  {
   "cell_type": "code",
   "execution_count": 98,
   "id": "8c4fb27f",
   "metadata": {},
   "outputs": [],
   "source": [
    "for i in range(8):\n",
    "    arr[i] = i"
   ]
  },
  {
   "cell_type": "code",
   "execution_count": 99,
   "id": "3e2f9338",
   "metadata": {},
   "outputs": [
    {
     "data": {
      "text/plain": [
       "array([[0., 0., 0., 0.],\n",
       "       [1., 1., 1., 1.],\n",
       "       [2., 2., 2., 2.],\n",
       "       [3., 3., 3., 3.],\n",
       "       [4., 4., 4., 4.],\n",
       "       [5., 5., 5., 5.],\n",
       "       [6., 6., 6., 6.],\n",
       "       [7., 7., 7., 7.]])"
      ]
     },
     "execution_count": 99,
     "metadata": {},
     "output_type": "execute_result"
    }
   ],
   "source": [
    "arr"
   ]
  },
  {
   "cell_type": "code",
   "execution_count": 100,
   "id": "e8c3952b",
   "metadata": {},
   "outputs": [
    {
     "ename": "SyntaxError",
     "evalue": "invalid syntax (<ipython-input-100-bb0c13decc02>, line 1)",
     "output_type": "error",
     "traceback": [
      "\u001b[1;36m  File \u001b[1;32m\"<ipython-input-100-bb0c13decc02>\"\u001b[1;36m, line \u001b[1;32m1\u001b[0m\n\u001b[1;33m    arr1 = [[4,3,0,6]] \"\"\"creating an empty array sets it up to take in values\"\"\"\u001b[0m\n\u001b[1;37m                       ^\u001b[0m\n\u001b[1;31mSyntaxError\u001b[0m\u001b[1;31m:\u001b[0m invalid syntax\n"
     ]
    }
   ],
   "source": [
    "arr1 = [[4,3,0,6]] \"\"\"creating an empty array sets it up to take in values\"\"\""
   ]
  },
  {
   "cell_type": "code",
   "execution_count": 101,
   "id": "1bc1c486",
   "metadata": {},
   "outputs": [
    {
     "data": {
      "text/plain": [
       "[0]"
      ]
     },
     "execution_count": 101,
     "metadata": {},
     "output_type": "execute_result"
    }
   ],
   "source": [
    "arr1"
   ]
  },
  {
   "cell_type": "code",
   "execution_count": 102,
   "id": "21975eac",
   "metadata": {},
   "outputs": [
    {
     "ename": "IndexError",
     "evalue": "list assignment index out of range",
     "output_type": "error",
     "traceback": [
      "\u001b[1;31m---------------------------------------------------------------------------\u001b[0m",
      "\u001b[1;31mIndexError\u001b[0m                                Traceback (most recent call last)",
      "\u001b[1;32m<ipython-input-102-4c9bd565cfe7>\u001b[0m in \u001b[0;36m<module>\u001b[1;34m\u001b[0m\n\u001b[0;32m      1\u001b[0m \u001b[1;32mfor\u001b[0m \u001b[0mi\u001b[0m \u001b[1;32min\u001b[0m \u001b[0mrange\u001b[0m\u001b[1;33m(\u001b[0m\u001b[1;36m8\u001b[0m\u001b[1;33m)\u001b[0m\u001b[1;33m:\u001b[0m\u001b[1;33m\u001b[0m\u001b[1;33m\u001b[0m\u001b[0m\n\u001b[1;32m----> 2\u001b[1;33m     \u001b[0marr1\u001b[0m\u001b[1;33m[\u001b[0m\u001b[0mi\u001b[0m\u001b[1;33m]\u001b[0m \u001b[1;33m=\u001b[0m \u001b[0mi\u001b[0m\u001b[1;33m\u001b[0m\u001b[1;33m\u001b[0m\u001b[0m\n\u001b[0m",
      "\u001b[1;31mIndexError\u001b[0m: list assignment index out of range"
     ]
    }
   ],
   "source": [
    "for i in range(8):\n",
    "    arr1[i] = i"
   ]
  },
  {
   "cell_type": "code",
   "execution_count": 103,
   "id": "57ab5b02",
   "metadata": {},
   "outputs": [
    {
     "data": {
      "text/plain": [
       "array([[4., 4., 4., 4.],\n",
       "       [3., 3., 3., 3.],\n",
       "       [0., 0., 0., 0.],\n",
       "       [6., 6., 6., 6.]])"
      ]
     },
     "execution_count": 103,
     "metadata": {},
     "output_type": "execute_result"
    }
   ],
   "source": [
    "arr[[4,3,0,6]]"
   ]
  },
  {
   "cell_type": "code",
   "execution_count": 104,
   "id": "da3708c3",
   "metadata": {},
   "outputs": [
    {
     "data": {
      "text/plain": [
       "array([[ 1.08768162, -0.66670718, -0.6543379 , -1.78092588],\n",
       "       [-1.09514992,  1.37816997,  0.08027418, -0.01234156],\n",
       "       [-0.47264534,  0.188934  ,  0.04967906,  0.94725963],\n",
       "       [-0.90964622, -0.16307843,  0.53755273,  0.70155658],\n",
       "       [ 0.11893997,  1.07700685,  1.10368336,  0.15840043],\n",
       "       [ 0.88755424, -0.86408013,  0.30706595, -0.61671093],\n",
       "       [ 0.19398045, -1.422772  , -0.91232909,  2.13069933]])"
      ]
     },
     "execution_count": 104,
     "metadata": {},
     "output_type": "execute_result"
    }
   ],
   "source": [
    "data"
   ]
  },
  {
   "cell_type": "code",
   "execution_count": 105,
   "id": "aadd4387",
   "metadata": {},
   "outputs": [],
   "source": [
    "data[data<0] = 0"
   ]
  },
  {
   "cell_type": "code",
   "execution_count": 106,
   "id": "1d7e2f70",
   "metadata": {},
   "outputs": [
    {
     "data": {
      "text/plain": [
       "array([[1.08768162, 0.        , 0.        , 0.        ],\n",
       "       [0.        , 1.37816997, 0.08027418, 0.        ],\n",
       "       [0.        , 0.188934  , 0.04967906, 0.94725963],\n",
       "       [0.        , 0.        , 0.53755273, 0.70155658],\n",
       "       [0.11893997, 1.07700685, 1.10368336, 0.15840043],\n",
       "       [0.88755424, 0.        , 0.30706595, 0.        ],\n",
       "       [0.19398045, 0.        , 0.        , 2.13069933]])"
      ]
     },
     "execution_count": 106,
     "metadata": {},
     "output_type": "execute_result"
    }
   ],
   "source": [
    "data"
   ]
  },
  {
   "cell_type": "code",
   "execution_count": 108,
   "id": "1e402069",
   "metadata": {},
   "outputs": [],
   "source": [
    "data[names != 'Joe'] = 7"
   ]
  },
  {
   "cell_type": "code",
   "execution_count": 109,
   "id": "08409ae2",
   "metadata": {},
   "outputs": [
    {
     "data": {
      "text/plain": [
       "array([[7., 7., 7., 7.],\n",
       "       [7., 7., 7., 7.],\n",
       "       [7., 7., 7., 7.],\n",
       "       [7., 7., 7., 7.],\n",
       "       [7., 7., 7., 7.],\n",
       "       [7., 7., 7., 7.],\n",
       "       [7., 7., 7., 7.]])"
      ]
     },
     "execution_count": 109,
     "metadata": {},
     "output_type": "execute_result"
    }
   ],
   "source": [
    "data"
   ]
  },
  {
   "cell_type": "code",
   "execution_count": 111,
   "id": "3f5cde65",
   "metadata": {},
   "outputs": [],
   "source": [
    "names = np.array (['Bob','Joe','Will','Bob','Will','Joe','Joe'])"
   ]
  },
  {
   "cell_type": "code",
   "execution_count": 112,
   "id": "37a78a11",
   "metadata": {},
   "outputs": [],
   "source": [
    "data = np.random.rand(7,4)"
   ]
  },
  {
   "cell_type": "code",
   "execution_count": 114,
   "id": "186cf55f",
   "metadata": {},
   "outputs": [
    {
     "data": {
      "text/plain": [
       "array([[0.91900703, 0.33261737, 0.71955104, 0.25290617],\n",
       "       [0.79875867, 0.09997566, 0.91014744, 0.08258916],\n",
       "       [0.36668776, 0.85110901, 0.61441776, 0.81395402],\n",
       "       [0.44978158, 0.86826307, 0.69755701, 0.03943936],\n",
       "       [0.58765024, 0.24751039, 0.65381852, 0.55679039],\n",
       "       [0.80021267, 0.44209962, 0.49525363, 0.86099109],\n",
       "       [0.20859366, 0.60755594, 0.63883997, 0.83024379]])"
      ]
     },
     "execution_count": 114,
     "metadata": {},
     "output_type": "execute_result"
    }
   ],
   "source": [
    "data"
   ]
  },
  {
   "cell_type": "code",
   "execution_count": 115,
   "id": "35af7d6c",
   "metadata": {},
   "outputs": [
    {
     "data": {
      "text/plain": [
       "array([False, False, False,  True, False, False, False])"
      ]
     },
     "execution_count": 115,
     "metadata": {},
     "output_type": "execute_result"
    }
   ],
   "source": [
    "names == 'Bob'"
   ]
  },
  {
   "cell_type": "code",
   "execution_count": 120,
   "id": "20c8222e",
   "metadata": {},
   "outputs": [],
   "source": [
    "data[names != 'Bob'] = 7"
   ]
  },
  {
   "cell_type": "code",
   "execution_count": 121,
   "id": "8880e453",
   "metadata": {},
   "outputs": [
    {
     "data": {
      "text/plain": [
       "array([[7.        , 7.        , 7.        , 7.        ],\n",
       "       [7.        , 7.        , 7.        , 7.        ],\n",
       "       [7.        , 7.        , 7.        , 7.        ],\n",
       "       [0.44978158, 0.86826307, 0.69755701, 0.03943936],\n",
       "       [7.        , 7.        , 7.        , 7.        ],\n",
       "       [7.        , 7.        , 7.        , 7.        ],\n",
       "       [7.        , 7.        , 7.        , 7.        ]])"
      ]
     },
     "execution_count": 121,
     "metadata": {},
     "output_type": "execute_result"
    }
   ],
   "source": [
    "data"
   ]
  },
  {
   "cell_type": "code",
   "execution_count": 126,
   "id": "57b9e8b7",
   "metadata": {},
   "outputs": [],
   "source": [
    "data[names != 'Bob'] = 8"
   ]
  },
  {
   "cell_type": "code",
   "execution_count": 127,
   "id": "1bc54650",
   "metadata": {},
   "outputs": [
    {
     "data": {
      "text/plain": [
       "array([[8.        , 8.        , 8.        , 8.        ],\n",
       "       [8.        , 8.        , 8.        , 8.        ],\n",
       "       [8.        , 8.        , 8.        , 8.        ],\n",
       "       [0.44978158, 0.86826307, 0.69755701, 0.03943936],\n",
       "       [8.        , 8.        , 8.        , 8.        ],\n",
       "       [8.        , 8.        , 8.        , 8.        ],\n",
       "       [8.        , 8.        , 8.        , 8.        ]])"
      ]
     },
     "execution_count": 127,
     "metadata": {},
     "output_type": "execute_result"
    }
   ],
   "source": [
    "data"
   ]
  },
  {
   "cell_type": "markdown",
   "id": "869e9f0b",
   "metadata": {},
   "source": [
    "## Fancy indexing"
   ]
  },
  {
   "cell_type": "code",
   "execution_count": 3,
   "id": "145667b6",
   "metadata": {},
   "outputs": [],
   "source": [
    "arr = np.arange(32).reshape((8,4))"
   ]
  },
  {
   "cell_type": "code",
   "execution_count": 4,
   "id": "c66b05f2",
   "metadata": {},
   "outputs": [
    {
     "data": {
      "text/plain": [
       "array([[ 0,  1,  2,  3],\n",
       "       [ 4,  5,  6,  7],\n",
       "       [ 8,  9, 10, 11],\n",
       "       [12, 13, 14, 15],\n",
       "       [16, 17, 18, 19],\n",
       "       [20, 21, 22, 23],\n",
       "       [24, 25, 26, 27],\n",
       "       [28, 29, 30, 31]])"
      ]
     },
     "execution_count": 4,
     "metadata": {},
     "output_type": "execute_result"
    }
   ],
   "source": [
    "arr"
   ]
  },
  {
   "cell_type": "code",
   "execution_count": 6,
   "id": "43411904",
   "metadata": {},
   "outputs": [
    {
     "data": {
      "text/plain": [
       "array([[ 4,  7,  5,  6],\n",
       "       [20, 23, 21, 22],\n",
       "       [28, 31, 29, 30],\n",
       "       [ 8, 11,  9, 10]])"
      ]
     },
     "execution_count": 6,
     "metadata": {},
     "output_type": "execute_result"
    }
   ],
   "source": [
    "arr[[1,5,7,2]][:,[0,3,1,2]]"
   ]
  },
  {
   "cell_type": "markdown",
   "id": "470942b3",
   "metadata": {},
   "source": [
    "## transpose"
   ]
  },
  {
   "cell_type": "code",
   "execution_count": 128,
   "id": "11a75630",
   "metadata": {},
   "outputs": [],
   "source": [
    "arr = np.arange(15).reshape((3,5))"
   ]
  },
  {
   "cell_type": "code",
   "execution_count": 129,
   "id": "49271391",
   "metadata": {},
   "outputs": [
    {
     "data": {
      "text/plain": [
       "array([[ 0,  1,  2,  3,  4],\n",
       "       [ 5,  6,  7,  8,  9],\n",
       "       [10, 11, 12, 13, 14]])"
      ]
     },
     "execution_count": 129,
     "metadata": {},
     "output_type": "execute_result"
    }
   ],
   "source": [
    "arr"
   ]
  },
  {
   "cell_type": "code",
   "execution_count": 130,
   "id": "3c26392f",
   "metadata": {},
   "outputs": [
    {
     "data": {
      "text/plain": [
       "array([[ 0,  5, 10],\n",
       "       [ 1,  6, 11],\n",
       "       [ 2,  7, 12],\n",
       "       [ 3,  8, 13],\n",
       "       [ 4,  9, 14]])"
      ]
     },
     "execution_count": 130,
     "metadata": {},
     "output_type": "execute_result"
    }
   ],
   "source": [
    "arr.T"
   ]
  },
  {
   "cell_type": "code",
   "execution_count": 132,
   "id": "3965e4ed",
   "metadata": {},
   "outputs": [
    {
     "data": {
      "text/plain": [
       "array([[ 0,  5, 10],\n",
       "       [ 1,  6, 11],\n",
       "       [ 2,  7, 12],\n",
       "       [ 3,  8, 13],\n",
       "       [ 4,  9, 14]])"
      ]
     },
     "execution_count": 132,
     "metadata": {},
     "output_type": "execute_result"
    }
   ],
   "source": [
    "arr.T"
   ]
  },
  {
   "cell_type": "code",
   "execution_count": 133,
   "id": "7d0c2354",
   "metadata": {},
   "outputs": [],
   "source": [
    "arr = np.random.randn(6,3)"
   ]
  },
  {
   "cell_type": "code",
   "execution_count": 140,
   "id": "9beaf662",
   "metadata": {},
   "outputs": [
    {
     "data": {
      "text/plain": [
       "array([[ 1.28833897,  1.44017678, -0.74311571],\n",
       "       [ 0.27978423, -0.67566914,  0.23570082],\n",
       "       [-0.92913194,  1.42987583, -0.09441906],\n",
       "       [ 0.05224361, -0.0843875 ,  1.99845081],\n",
       "       [-0.40271929,  0.96784173,  0.55492903],\n",
       "       [ 0.68527306,  0.69194298, -1.56994995]])"
      ]
     },
     "execution_count": 140,
     "metadata": {},
     "output_type": "execute_result"
    }
   ],
   "source": [
    "arr"
   ]
  },
  {
   "cell_type": "code",
   "execution_count": 141,
   "id": "2750dc39",
   "metadata": {},
   "outputs": [
    {
     "data": {
      "text/plain": [
       "array([[ 1.28833897,  0.27978423, -0.92913194,  0.05224361, -0.40271929,\n",
       "         0.68527306],\n",
       "       [ 1.44017678, -0.67566914,  1.42987583, -0.0843875 ,  0.96784173,\n",
       "         0.69194298],\n",
       "       [-0.74311571,  0.23570082, -0.09441906,  1.99845081,  0.55492903,\n",
       "        -1.56994995]])"
      ]
     },
     "execution_count": 141,
     "metadata": {},
     "output_type": "execute_result"
    }
   ],
   "source": [
    "arr.T"
   ]
  },
  {
   "cell_type": "code",
   "execution_count": 137,
   "id": "41478035",
   "metadata": {},
   "outputs": [
    {
     "data": {
      "text/plain": [
       "array([[ 3.23589406,  0.41784363, -1.99863054],\n",
       "       [ 0.41784363,  5.99780679, -2.08235795],\n",
       "       [-1.99863054, -2.08235795,  7.3831855 ]])"
      ]
     },
     "execution_count": 137,
     "metadata": {},
     "output_type": "execute_result"
    }
   ],
   "source": [
    "np.dot(arr.T, arr)"
   ]
  },
  {
   "cell_type": "code",
   "execution_count": null,
   "id": "0da12afc",
   "metadata": {},
   "outputs": [],
   "source": []
  },
  {
   "cell_type": "code",
   "execution_count": 135,
   "id": "13bb7bbd",
   "metadata": {},
   "outputs": [
    {
     "data": {
      "text/plain": [
       "array([[ 1.28833897,  1.44017678, -0.74311571],\n",
       "       [ 0.27978423, -0.67566914,  0.23570082],\n",
       "       [-0.92913194,  1.42987583, -0.09441906],\n",
       "       [ 0.05224361, -0.0843875 ,  1.99845081],\n",
       "       [-0.40271929,  0.96784173,  0.55492903],\n",
       "       [ 0.68527306,  0.69194298, -1.56994995]])"
      ]
     },
     "execution_count": 135,
     "metadata": {},
     "output_type": "execute_result"
    }
   ],
   "source": [
    "arr"
   ]
  },
  {
   "cell_type": "code",
   "execution_count": 142,
   "id": "2a8e5d8a",
   "metadata": {},
   "outputs": [
    {
     "data": {
      "text/plain": [
       "array([[ 4.28614742, -0.78777906,  0.93240138, -1.53930565,  0.46264775,\n",
       "         3.04603867],\n",
       "       [-0.78777906,  0.59036288, -1.24833408,  0.54267147, -0.63581806,\n",
       "        -0.64583442],\n",
       "       [ 0.93240138, -1.24833408,  2.91674602, -0.3578967 ,  1.70567698,\n",
       "         0.50091665],\n",
       "       [-1.53930565,  0.54267147, -0.3578967 ,  4.00365628,  1.00628511,\n",
       "        -3.16005795],\n",
       "       [ 0.46264775, -0.63581806,  1.70567698,  1.00628511,  1.40684666,\n",
       "        -0.47749219],\n",
       "       [ 3.04603867, -0.64583442,  0.50091665, -3.16005795, -0.47749219,\n",
       "         3.41312709]])"
      ]
     },
     "execution_count": 142,
     "metadata": {},
     "output_type": "execute_result"
    }
   ],
   "source": [
    "np.dot(arr,arr.T)"
   ]
  },
  {
   "cell_type": "code",
   "execution_count": 144,
   "id": "afb28019",
   "metadata": {},
   "outputs": [],
   "source": [
    "arr = np.arange(16).reshape((2,2,4))"
   ]
  },
  {
   "cell_type": "code",
   "execution_count": 145,
   "id": "8550ef41",
   "metadata": {},
   "outputs": [
    {
     "data": {
      "text/plain": [
       "array([[[ 0,  1,  2,  3],\n",
       "        [ 4,  5,  6,  7]],\n",
       "\n",
       "       [[ 8,  9, 10, 11],\n",
       "        [12, 13, 14, 15]]])"
      ]
     },
     "execution_count": 145,
     "metadata": {},
     "output_type": "execute_result"
    }
   ],
   "source": [
    "arr"
   ]
  },
  {
   "cell_type": "code",
   "execution_count": 146,
   "id": "18b53de9",
   "metadata": {},
   "outputs": [
    {
     "data": {
      "text/plain": [
       "array([[[ 0,  1,  2,  3],\n",
       "        [ 8,  9, 10, 11]],\n",
       "\n",
       "       [[ 4,  5,  6,  7],\n",
       "        [12, 13, 14, 15]]])"
      ]
     },
     "execution_count": 146,
     "metadata": {},
     "output_type": "execute_result"
    }
   ],
   "source": [
    "arr.transpose((1,0,2))"
   ]
  },
  {
   "cell_type": "code",
   "execution_count": 161,
   "id": "c0f37405",
   "metadata": {},
   "outputs": [
    {
     "data": {
      "text/plain": [
       "array([[[ 0,  8],\n",
       "        [ 1,  9],\n",
       "        [ 2, 10],\n",
       "        [ 3, 11]],\n",
       "\n",
       "       [[ 4, 12],\n",
       "        [ 5, 13],\n",
       "        [ 6, 14],\n",
       "        [ 7, 15]]])"
      ]
     },
     "execution_count": 161,
     "metadata": {},
     "output_type": "execute_result"
    }
   ],
   "source": [
    "arr.transpose((1,2,0))"
   ]
  },
  {
   "cell_type": "code",
   "execution_count": null,
   "id": "8da7156f",
   "metadata": {},
   "outputs": [],
   "source": []
  },
  {
   "cell_type": "code",
   "execution_count": 158,
   "id": "cd1eb5fb",
   "metadata": {},
   "outputs": [
    {
     "data": {
      "text/plain": [
       "array([ 8,  9, 10, 11])"
      ]
     },
     "execution_count": 158,
     "metadata": {},
     "output_type": "execute_result"
    }
   ],
   "source": [
    "arr[1][0]"
   ]
  },
  {
   "cell_type": "code",
   "execution_count": 170,
   "id": "57cce541",
   "metadata": {},
   "outputs": [
    {
     "name": "stdout",
     "output_type": "stream",
     "text": [
      "[[0 1 2 3]\n",
      " [4 5 6 7]] 0\n"
     ]
    }
   ],
   "source": [
    "for a,i in zip(arr,arr1):\n",
    "    print (a,i) "
   ]
  },
  {
   "cell_type": "code",
   "execution_count": null,
   "id": "7eed05c4",
   "metadata": {},
   "outputs": [],
   "source": []
  },
  {
   "cell_type": "markdown",
   "id": "ebeee9b6",
   "metadata": {},
   "source": [
    "# 4.2 Universal Functions: Fast Element-Wise Array Functions"
   ]
  },
  {
   "cell_type": "code",
   "execution_count": null,
   "id": "bbd155aa",
   "metadata": {},
   "outputs": [],
   "source": []
  },
  {
   "cell_type": "code",
   "execution_count": 1,
   "id": "d9c33306",
   "metadata": {},
   "outputs": [],
   "source": [
    "import numpy as np"
   ]
  },
  {
   "cell_type": "code",
   "execution_count": 9,
   "id": "2d333667",
   "metadata": {},
   "outputs": [],
   "source": [
    "arr = np.random.randn(8)"
   ]
  },
  {
   "cell_type": "code",
   "execution_count": 10,
   "id": "94fec792",
   "metadata": {},
   "outputs": [
    {
     "data": {
      "text/plain": [
       "array([ 0.19861454, -0.44063434, -1.16185426,  0.08285848, -0.23056766,\n",
       "       -0.6106237 , -0.67935627, -2.29250704])"
      ]
     },
     "execution_count": 10,
     "metadata": {},
     "output_type": "execute_result"
    }
   ],
   "source": [
    "arr"
   ]
  },
  {
   "cell_type": "code",
   "execution_count": 11,
   "id": "51106295",
   "metadata": {},
   "outputs": [
    {
     "data": {
      "text/plain": [
       "array([  0.9930727 ,  -2.20317168,  -5.80927132,   0.41429242,\n",
       "        -1.15283832,  -3.05311851,  -3.39678136, -11.46253522])"
      ]
     },
     "execution_count": 11,
     "metadata": {},
     "output_type": "execute_result"
    }
   ],
   "source": [
    "arr * 5"
   ]
  },
  {
   "cell_type": "raw",
   "id": "8ca18729",
   "metadata": {},
   "source": []
  },
  {
   "cell_type": "code",
   "execution_count": 12,
   "id": "d1c31e67",
   "metadata": {},
   "outputs": [],
   "source": [
    "whole = np.modf(arr)"
   ]
  },
  {
   "cell_type": "code",
   "execution_count": 13,
   "id": "b690db40",
   "metadata": {},
   "outputs": [
    {
     "data": {
      "text/plain": [
       "(array([ 0.19861454, -0.44063434, -0.16185426,  0.08285848, -0.23056766,\n",
       "        -0.6106237 , -0.67935627, -0.29250704]),\n",
       " array([ 0., -0., -1.,  0., -0., -0., -0., -2.]))"
      ]
     },
     "execution_count": 13,
     "metadata": {},
     "output_type": "execute_result"
    }
   ],
   "source": [
    "whole"
   ]
  },
  {
   "cell_type": "code",
   "execution_count": 14,
   "id": "55ac44ac",
   "metadata": {},
   "outputs": [],
   "source": [
    "remainder,new_whole = np.modf(arr)"
   ]
  },
  {
   "cell_type": "code",
   "execution_count": 15,
   "id": "6f06eb30",
   "metadata": {},
   "outputs": [
    {
     "data": {
      "text/plain": [
       "array([ 0.19861454, -0.44063434, -0.16185426,  0.08285848, -0.23056766,\n",
       "       -0.6106237 , -0.67935627, -0.29250704])"
      ]
     },
     "execution_count": 15,
     "metadata": {},
     "output_type": "execute_result"
    }
   ],
   "source": [
    "remainder"
   ]
  },
  {
   "cell_type": "code",
   "execution_count": 16,
   "id": "7ed2dfbe",
   "metadata": {},
   "outputs": [
    {
     "data": {
      "text/plain": [
       "(array([ 0.19861454, -0.44063434, -0.16185426,  0.08285848, -0.23056766,\n",
       "        -0.6106237 , -0.67935627, -0.29250704]),\n",
       " array([ 0., -0., -1.,  0., -0., -0., -0., -2.]))"
      ]
     },
     "execution_count": 16,
     "metadata": {},
     "output_type": "execute_result"
    }
   ],
   "source": [
    "whole"
   ]
  },
  {
   "cell_type": "code",
   "execution_count": 17,
   "id": "e0124c07",
   "metadata": {},
   "outputs": [
    {
     "data": {
      "text/plain": [
       "array([ 0.19861454, -0.44063434, -1.16185426,  0.08285848, -0.23056766,\n",
       "       -0.6106237 , -0.67935627, -2.29250704])"
      ]
     },
     "execution_count": 17,
     "metadata": {},
     "output_type": "execute_result"
    }
   ],
   "source": [
    "arr"
   ]
  },
  {
   "cell_type": "code",
   "execution_count": 19,
   "id": "10b7f735",
   "metadata": {},
   "outputs": [
    {
     "name": "stderr",
     "output_type": "stream",
     "text": [
      "<ipython-input-19-b58949107b3d>:1: RuntimeWarning: invalid value encountered in sqrt\n",
      "  np.sqrt(arr)\n"
     ]
    },
    {
     "data": {
      "text/plain": [
       "array([0.44566191,        nan,        nan, 0.2878515 ,        nan,\n",
       "              nan,        nan,        nan])"
      ]
     },
     "execution_count": 19,
     "metadata": {},
     "output_type": "execute_result"
    }
   ],
   "source": [
    "np.sqrt(arr)"
   ]
  },
  {
   "cell_type": "code",
   "execution_count": 20,
   "id": "be08547f",
   "metadata": {},
   "outputs": [
    {
     "name": "stderr",
     "output_type": "stream",
     "text": [
      "<ipython-input-20-e3ca18b15869>:1: RuntimeWarning: invalid value encountered in sqrt\n",
      "  np.sqrt(arr,arr)\n"
     ]
    },
    {
     "data": {
      "text/plain": [
       "array([0.44566191,        nan,        nan, 0.2878515 ,        nan,\n",
       "              nan,        nan,        nan])"
      ]
     },
     "execution_count": 20,
     "metadata": {},
     "output_type": "execute_result"
    }
   ],
   "source": [
    "np.sqrt(arr,arr)"
   ]
  },
  {
   "cell_type": "code",
   "execution_count": 25,
   "id": "9c5b471e",
   "metadata": {},
   "outputs": [],
   "source": [
    "arrsqur= np.random.randn(8)"
   ]
  },
  {
   "cell_type": "code",
   "execution_count": 22,
   "id": "14aec998",
   "metadata": {},
   "outputs": [
    {
     "data": {
      "text/plain": [
       "array([ 0.79411535,  0.27550699, -0.18041513,  1.47298233, -0.2428076 ,\n",
       "       -1.06042175, -0.3117139 ,  0.88848198, -1.05915695, -0.40569171])"
      ]
     },
     "execution_count": 22,
     "metadata": {},
     "output_type": "execute_result"
    }
   ],
   "source": [
    "arrsqur"
   ]
  },
  {
   "cell_type": "code",
   "execution_count": 23,
   "id": "e494d483",
   "metadata": {},
   "outputs": [
    {
     "name": "stderr",
     "output_type": "stream",
     "text": [
      "<ipython-input-23-5a7f6898d6bf>:1: RuntimeWarning: invalid value encountered in sqrt\n",
      "  np.sqrt(arrsqur)\n"
     ]
    },
    {
     "data": {
      "text/plain": [
       "array([0.8911315 , 0.5248876 ,        nan, 1.21366483,        nan,\n",
       "              nan,        nan, 0.94259322,        nan,        nan])"
      ]
     },
     "execution_count": 23,
     "metadata": {},
     "output_type": "execute_result"
    }
   ],
   "source": [
    "np.sqrt(arrsqur)"
   ]
  },
  {
   "cell_type": "code",
   "execution_count": 26,
   "id": "84554060",
   "metadata": {},
   "outputs": [
    {
     "data": {
      "text/plain": [
       "array([0.82533498,        nan,        nan, 0.24891652,        nan,\n",
       "              nan,        nan,        nan])"
      ]
     },
     "execution_count": 26,
     "metadata": {},
     "output_type": "execute_result"
    }
   ],
   "source": [
    "np.power(arr,arrsqur)"
   ]
  },
  {
   "cell_type": "code",
   "execution_count": 28,
   "id": "e9b47f3b",
   "metadata": {},
   "outputs": [],
   "source": [
    "points = np.arange(-5,5,0.01)"
   ]
  },
  {
   "cell_type": "code",
   "execution_count": 33,
   "id": "661bd250",
   "metadata": {},
   "outputs": [
    {
     "data": {
      "text/plain": [
       "1000"
      ]
     },
     "execution_count": 33,
     "metadata": {},
     "output_type": "execute_result"
    }
   ],
   "source": [
    "len(points)"
   ]
  },
  {
   "cell_type": "code",
   "execution_count": 31,
   "id": "2f9b79f6",
   "metadata": {},
   "outputs": [],
   "source": [
    "xs,ys = np.meshgrid(points,points)"
   ]
  },
  {
   "cell_type": "code",
   "execution_count": 32,
   "id": "a72f6170",
   "metadata": {},
   "outputs": [
    {
     "data": {
      "text/plain": [
       "1000"
      ]
     },
     "execution_count": 32,
     "metadata": {},
     "output_type": "execute_result"
    }
   ],
   "source": [
    "len(xs)"
   ]
  },
  {
   "cell_type": "code",
   "execution_count": 34,
   "id": "cc072d19",
   "metadata": {},
   "outputs": [],
   "source": [
    "z = np.sqrt(xs**2 + ys ** 2)"
   ]
  },
  {
   "cell_type": "code",
   "execution_count": 35,
   "id": "b304b5b5",
   "metadata": {},
   "outputs": [
    {
     "data": {
      "text/plain": [
       "array([[7.07106781, 7.06400028, 7.05693985, ..., 7.04988652, 7.05693985,\n",
       "        7.06400028],\n",
       "       [7.06400028, 7.05692568, 7.04985815, ..., 7.04279774, 7.04985815,\n",
       "        7.05692568],\n",
       "       [7.05693985, 7.04985815, 7.04278354, ..., 7.03571603, 7.04278354,\n",
       "        7.04985815],\n",
       "       ...,\n",
       "       [7.04988652, 7.04279774, 7.03571603, ..., 7.0286414 , 7.03571603,\n",
       "        7.04279774],\n",
       "       [7.05693985, 7.04985815, 7.04278354, ..., 7.03571603, 7.04278354,\n",
       "        7.04985815],\n",
       "       [7.06400028, 7.05692568, 7.04985815, ..., 7.04279774, 7.04985815,\n",
       "        7.05692568]])"
      ]
     },
     "execution_count": 35,
     "metadata": {},
     "output_type": "execute_result"
    }
   ],
   "source": [
    "z"
   ]
  },
  {
   "cell_type": "markdown",
   "id": "0ed89e66",
   "metadata": {},
   "source": [
    "## 4.3 Array-Oriented Programming with Arrays"
   ]
  },
  {
   "cell_type": "code",
   "execution_count": 3,
   "id": "12862adf",
   "metadata": {},
   "outputs": [],
   "source": [
    "import numpy as np"
   ]
  },
  {
   "cell_type": "code",
   "execution_count": 6,
   "id": "1fdfdf5e",
   "metadata": {},
   "outputs": [
    {
     "data": {
      "text/plain": [
       "array([-5.   , -4.999, -4.998, ...,  4.997,  4.998,  4.999])"
      ]
     },
     "execution_count": 6,
     "metadata": {},
     "output_type": "execute_result"
    }
   ],
   "source": [
    "points = np.arange(-5,5,0.001)\n",
    "points"
   ]
  },
  {
   "cell_type": "code",
   "execution_count": 8,
   "id": "064faf2f",
   "metadata": {},
   "outputs": [],
   "source": [
    "xs, xy = np.meshgrid(points,points)"
   ]
  },
  {
   "cell_type": "code",
   "execution_count": 11,
   "id": "bef15207",
   "metadata": {},
   "outputs": [
    {
     "data": {
      "text/plain": [
       "array([[-5.   , -4.999, -4.998, ...,  4.997,  4.998,  4.999],\n",
       "       [-5.   , -4.999, -4.998, ...,  4.997,  4.998,  4.999],\n",
       "       [-5.   , -4.999, -4.998, ...,  4.997,  4.998,  4.999],\n",
       "       ...,\n",
       "       [-5.   , -4.999, -4.998, ...,  4.997,  4.998,  4.999],\n",
       "       [-5.   , -4.999, -4.998, ...,  4.997,  4.998,  4.999],\n",
       "       [-5.   , -4.999, -4.998, ...,  4.997,  4.998,  4.999]])"
      ]
     },
     "execution_count": 11,
     "metadata": {},
     "output_type": "execute_result"
    }
   ],
   "source": [
    "xs"
   ]
  },
  {
   "cell_type": "code",
   "execution_count": null,
   "id": "0560d4b0",
   "metadata": {},
   "outputs": [],
   "source": []
  },
  {
   "cell_type": "code",
   "execution_count": null,
   "id": "8f138a74",
   "metadata": {},
   "outputs": [],
   "source": []
  },
  {
   "cell_type": "markdown",
   "id": "57ab342e",
   "metadata": {},
   "source": [
    "## Sorting"
   ]
  },
  {
   "cell_type": "code",
   "execution_count": 39,
   "id": "9b976e88",
   "metadata": {},
   "outputs": [],
   "source": [
    "large_arr = np.random.randn(1000)"
   ]
  },
  {
   "cell_type": "code",
   "execution_count": 40,
   "id": "8926f217",
   "metadata": {},
   "outputs": [
    {
     "data": {
      "text/plain": [
       "array([-9.02272183e-02, -6.97719797e-01, -8.49044908e-01,  4.34278391e-01,\n",
       "        4.40278867e-01,  3.43993289e-01,  5.18786622e-01, -1.72144685e+00,\n",
       "        1.00386044e+00,  2.43324177e+00,  1.17803807e+00,  8.59396897e-01,\n",
       "        4.09023897e-01,  2.03987335e-01, -1.47427409e+00, -8.16476863e-01,\n",
       "        8.07351849e-01, -1.05065765e+00,  3.21696785e-01, -1.58503681e+00,\n",
       "       -1.04081237e+00, -1.48334705e+00, -2.00978191e+00,  4.05205465e-01,\n",
       "       -1.67659547e-03, -1.16329819e+00, -3.69127753e-01,  1.06660586e+00,\n",
       "        5.04588447e-01,  1.11196733e+00,  7.77916391e-01, -2.05592818e-01,\n",
       "       -6.21035209e-01,  3.06400041e-01, -9.84032313e-01, -1.19914849e+00,\n",
       "       -3.47151996e-01,  1.27738621e+00, -7.20983868e-01, -1.21751102e+00,\n",
       "        5.76709511e-02,  3.91258763e-01, -9.78841503e-01, -1.56717838e-01,\n",
       "        3.17744028e-01, -5.84142869e-01,  1.02650691e+00,  1.29769071e+00,\n",
       "       -1.13463116e+00, -4.08043563e-01,  9.17651508e-01, -1.29291053e-01,\n",
       "       -1.27816132e+00,  5.52826426e-01, -5.13673096e-01, -1.74848522e+00,\n",
       "        3.50000504e-01, -6.42954065e-01, -1.67914639e+00, -2.30365861e-01,\n",
       "       -3.47029097e-01,  2.12250542e+00,  1.97892114e-01, -3.59075688e-01,\n",
       "        4.95067249e-01, -4.44227335e-01,  2.41933999e-01, -1.01463086e+00,\n",
       "        6.86412253e-01, -1.17700186e+00,  1.37932258e+00, -1.48472550e+00,\n",
       "        3.45612411e-01, -7.54255770e-01, -8.17595307e-03, -2.09220070e+00,\n",
       "       -1.19135627e+00, -1.01064077e+00,  1.49441669e+00, -8.69579506e-01,\n",
       "       -2.39128132e-01, -5.80268961e-01, -7.50206895e-01,  1.31022230e+00,\n",
       "       -1.10198578e+00,  1.02530345e-01, -1.98243090e+00,  2.01331232e+00,\n",
       "       -7.45701837e-01, -1.04139250e-01,  1.12040389e-01,  1.04918081e+00,\n",
       "       -1.22643253e+00,  6.82773783e-02,  8.92530541e-02,  1.67118384e-01,\n",
       "        9.19077495e-01, -1.19572908e+00, -2.33844281e+00,  1.09976995e+00,\n",
       "       -2.00464422e+00,  2.49887156e-02,  2.65954296e-01, -4.58866617e-01,\n",
       "       -2.00967473e-01,  9.69047731e-01,  3.75113476e-01, -4.48335720e-01,\n",
       "       -5.46521285e-01,  1.22613802e+00,  1.06019403e+00,  1.69419140e+00,\n",
       "        8.03773705e-01,  5.30050048e-01,  3.45115838e-01, -9.23608474e-01,\n",
       "        6.39309218e-01,  3.23848011e-01,  2.09739957e+00,  9.42724888e-02,\n",
       "       -4.37759020e-01, -5.73597756e-01, -3.81042613e-01,  1.21667642e-01,\n",
       "        1.39023816e+00,  7.85243148e-02,  1.27698239e+00, -9.08974138e-01,\n",
       "       -6.69013907e-01, -3.91152901e-01, -6.75611341e-01, -2.78154144e-02,\n",
       "        1.52332852e-01, -1.10994980e+00,  9.93733142e-01,  2.02097404e-01,\n",
       "        1.68430833e+00,  4.68598590e-01,  9.87811951e-01, -7.16901702e-01,\n",
       "       -7.36438233e-01, -5.48767082e-01,  5.34476832e-01, -1.89543414e-01,\n",
       "        6.06907906e-01,  2.53677962e-02,  1.82252466e+00, -1.43872717e+00,\n",
       "       -1.89508744e+00,  2.52562076e+00, -3.63500849e-01, -3.23153577e-01,\n",
       "        1.24608639e+00,  9.32112838e-01, -3.01089669e-01,  4.62766148e-01,\n",
       "        3.18239693e+00,  3.50563130e-01, -3.67359595e-01, -2.12752322e+00,\n",
       "        7.41228017e-02, -6.06826455e-01, -1.68868555e+00, -2.18876869e+00,\n",
       "        5.54478670e-01,  9.36364905e-01, -5.30378173e-01,  5.89470729e-01,\n",
       "       -1.48737434e+00,  6.16579500e-02,  5.53320473e-01,  1.01952370e+00,\n",
       "        9.20363213e-01,  2.13554686e+00, -1.43047075e-01, -2.26549844e-01,\n",
       "       -4.92236339e-01,  8.76989029e-01, -4.12912573e-02, -1.37226968e+00,\n",
       "       -8.57431270e-01,  4.15967855e-01,  9.47445765e-01, -9.93051692e-01,\n",
       "       -6.60951466e-01,  7.89944026e-01, -3.27143101e-02, -3.33243378e-01,\n",
       "        1.48183312e+00,  1.24349539e+00, -4.67551660e-01,  1.19273324e+00,\n",
       "        3.43640670e-01,  7.42615821e-01, -1.15738081e+00, -1.44459537e+00,\n",
       "        2.08277096e-02,  1.95381035e+00, -1.79644012e-01,  1.01682868e+00,\n",
       "        2.06398815e+00,  3.64075400e-01,  7.29681832e-01,  7.69148259e-01,\n",
       "       -2.56787139e+00,  1.51710936e+00, -8.83096068e-01, -7.42022248e-01,\n",
       "        2.06573723e-01,  1.74693945e+00, -1.02017494e+00, -8.76252858e-01,\n",
       "        6.13118861e-01, -1.62330570e+00,  9.00800650e-01,  2.98978174e-01,\n",
       "       -1.10975557e+00,  1.20221460e-01,  2.74607997e+00, -1.24230706e-01,\n",
       "        1.03238738e+00,  1.22950256e+00,  1.55248958e-01,  1.69955415e+00,\n",
       "       -3.06426495e-01, -7.51255730e-01, -4.12497243e-01,  6.18039681e-01,\n",
       "       -5.32052449e-01, -5.53995731e-01, -7.09016200e-01,  4.63313421e-01,\n",
       "       -1.21566036e+00,  1.14825903e+00,  5.88748503e-02, -1.51387441e-01,\n",
       "        4.91303734e-01,  7.84162216e-01,  5.38565724e-03,  1.85677200e+00,\n",
       "        4.52352210e-01,  1.71995016e-01,  1.71333219e+00,  4.34600108e-01,\n",
       "        2.42235560e-01,  1.21704206e+00, -1.12702375e+00,  4.99152362e-01,\n",
       "       -1.81123464e+00,  4.88545607e-01, -1.26791904e-01,  1.95837867e-01,\n",
       "       -5.49518936e-01,  1.24732495e+00, -1.20342181e+00, -7.39641721e-01,\n",
       "        1.62194590e+00,  1.40168096e+00,  8.98667411e-01, -5.15703400e-01,\n",
       "       -1.65243009e-01, -5.09771869e-01,  1.54701400e+00, -8.26751682e-01,\n",
       "        2.03671431e+00,  3.52585933e-01, -5.85289303e-01, -1.84237311e+00,\n",
       "       -1.51351855e+00,  1.46753845e+00,  4.23269874e-01,  3.61771250e-01,\n",
       "        1.37789510e+00,  1.62374336e+00,  9.02563757e-01,  9.01889768e-01,\n",
       "        1.07340211e+00, -5.39055399e-01,  6.82989605e-02, -7.69262504e-02,\n",
       "       -3.92087362e-01, -1.03520094e+00,  4.22309445e-01, -2.01502390e-01,\n",
       "        6.14115724e-01,  1.27006846e+00,  1.03832223e+00, -7.19218451e-01,\n",
       "       -1.77172900e+00,  7.82133543e-01,  1.51112574e+00,  2.34002209e+00,\n",
       "       -1.03436241e+00,  1.41797031e+00,  7.40874287e-01,  2.61557759e-01,\n",
       "        8.64653348e-02,  1.09420883e+00,  6.83156375e-01, -1.01629418e+00,\n",
       "        1.89745434e+00, -9.02122804e-01,  1.06649496e+00,  3.89389168e-01,\n",
       "        3.99706810e-01, -2.50658963e-01, -2.43803782e-01,  8.84527233e-01,\n",
       "       -3.41706335e-01, -2.72123222e+00,  1.14542551e+00,  2.76262058e-01,\n",
       "       -9.49806600e-01,  8.63983736e-01,  7.07316361e-01,  2.59822727e-01,\n",
       "        8.85526079e-03,  1.53414193e+00, -1.35371313e+00,  9.32146097e-01,\n",
       "       -6.95156732e-01,  4.68082497e-01, -1.41883479e+00,  9.14245985e-01,\n",
       "        4.11952948e-01,  1.57271557e-01,  2.38449410e-01, -4.60283898e-01,\n",
       "       -2.61627573e-01, -4.76067120e-01,  1.84845108e+00, -1.11568104e+00,\n",
       "       -4.77310312e-01,  7.98232289e-01, -9.65644353e-02,  1.41244919e+00,\n",
       "        1.02697491e-01, -3.59962966e-01, -3.61029907e-01, -9.02534820e-01,\n",
       "       -5.19767589e-01, -6.37380558e-01, -8.77463664e-01, -1.26151968e-01,\n",
       "        1.37699951e+00,  1.23120511e+00,  5.44494818e-02,  1.52315661e+00,\n",
       "        1.07158505e-01, -1.74486053e-01,  8.52248782e-01,  3.30324639e-01,\n",
       "        7.66144578e-01, -6.79596310e-01,  5.86398360e-01,  1.31840249e+00,\n",
       "       -4.21721901e-01,  3.80818671e-01,  5.19984989e-01,  1.32510836e+00,\n",
       "       -1.81451496e+00,  1.12448117e-01,  3.42483222e-01,  1.51286157e+00,\n",
       "        6.42994824e-01, -2.19128630e-01,  6.30640844e-01,  9.49558375e-01,\n",
       "        8.05359219e-01,  2.96468940e-01, -5.90602024e-02,  5.26844245e-01,\n",
       "       -1.43163211e+00,  7.28379278e-02,  6.53485134e-02,  5.24351697e-02,\n",
       "       -2.40136726e+00,  7.40703868e-01,  7.16001284e-01, -2.93989236e-01,\n",
       "        1.02546999e+00,  1.60112003e+00, -3.20443213e-01, -1.22565706e+00,\n",
       "        1.69065905e+00, -1.64654142e-01, -8.15602562e-01, -4.31784227e-01,\n",
       "       -7.30256878e-01,  3.21185969e-01, -1.42154491e+00,  1.43668918e-01,\n",
       "        1.07058755e+00, -9.87993670e-02,  9.31506682e-01,  8.45179655e-01,\n",
       "       -1.25594435e+00,  4.57706653e-02,  3.32490880e-01,  7.41791736e-01,\n",
       "       -1.32810898e+00,  7.27636525e-02,  1.44199134e+00, -1.25076606e+00,\n",
       "       -8.06611491e-01, -6.03797110e-01,  1.31051409e+00,  1.59395870e+00,\n",
       "        3.60101705e-01, -1.30633386e+00, -9.37562043e-01,  1.52437417e+00,\n",
       "       -5.60900025e-01, -1.16780252e+00,  5.39990079e-01, -2.10518869e-01,\n",
       "        7.88044433e-01, -5.93278675e-01,  2.25241209e-01, -7.80330944e-01,\n",
       "        1.07489175e-01, -1.17132103e+00, -1.86335930e+00, -5.76235299e-01,\n",
       "       -8.48238731e-01,  4.85607579e-02, -1.03563857e+00, -2.52450535e-01,\n",
       "        9.36689216e-01,  8.66894384e-01,  1.30525628e-01, -1.41829747e-01,\n",
       "       -1.88944665e+00, -5.29964383e-01, -7.82763238e-01, -4.43209455e-01,\n",
       "        5.48140309e-01, -2.37781001e-01,  1.26634362e+00,  3.46856870e-02,\n",
       "       -1.00140919e+00,  7.81391969e-02,  1.36695033e-01,  1.99210425e+00,\n",
       "        2.57359778e-01, -8.48725443e-01, -5.04778753e-01, -1.03482633e-01,\n",
       "        7.56082482e-01, -6.61043037e-01,  4.26359709e-01,  7.84792329e-01,\n",
       "        1.23787007e+00, -5.34215655e-01, -1.20810624e+00,  6.70309684e-01,\n",
       "       -4.46000229e-01, -6.15495936e-01, -6.16504330e-01, -4.95715816e-01,\n",
       "       -2.43567614e+00, -8.77610169e-02, -3.70189201e-03,  1.74588741e-01,\n",
       "        1.19230719e+00, -7.00010426e-01, -1.03270747e+00,  3.53604233e-01,\n",
       "       -2.05965599e-01, -1.11371557e+00, -1.42735929e+00,  8.47587399e-01,\n",
       "        1.13438430e+00, -2.00309755e-01,  2.41171120e-02, -5.69485426e-01,\n",
       "        1.53897284e+00,  3.61218520e-01, -3.81980728e-01,  7.12474149e-02,\n",
       "       -1.26351076e-01,  9.32062476e-01, -6.87560838e-02, -9.44310303e-01,\n",
       "       -8.27522255e-01, -1.72610107e-01, -8.29205605e-01,  9.65915479e-01,\n",
       "        3.16413825e-01,  4.19648624e-02,  8.28587875e-01,  1.89598175e-01,\n",
       "       -8.08654676e-01, -2.53071402e-01, -9.08670012e-01,  9.18080201e-02,\n",
       "       -3.17231971e-01, -1.08997233e+00,  5.02813169e-01, -6.73608782e-01,\n",
       "       -4.55239574e-01, -1.56880150e+00, -6.32013007e-02,  1.83881151e+00,\n",
       "        9.74747886e-01,  7.41245335e-02,  4.69733003e-01,  1.40899792e+00,\n",
       "        7.68380823e-01,  1.34998347e-01, -1.47642012e-01,  2.05016203e+00,\n",
       "       -1.92958025e-01,  4.34935958e-01, -2.35990642e-01,  1.49963432e+00,\n",
       "        1.86986581e+00,  1.01276914e+00, -5.06201066e-01,  9.38099287e-01,\n",
       "        1.53162964e+00, -8.01814314e-02,  4.83557706e-01, -6.50391901e-01,\n",
       "        1.68186924e+00, -1.18293788e-01, -1.80489987e+00,  6.31701014e-01,\n",
       "       -5.13020503e-01,  1.30023153e+00,  1.88103365e+00, -7.92868536e-01,\n",
       "        2.05576110e+00,  1.21416005e-01, -7.14221796e-01, -6.07897570e-01,\n",
       "       -1.08934244e+00, -8.62012775e-01, -4.51445014e-01,  1.33935711e+00,\n",
       "       -1.71494748e+00,  2.98943257e-01, -3.51632335e-01, -1.36228734e+00,\n",
       "        1.90946295e+00, -4.33740993e-01,  1.13835243e+00,  1.09805967e-01,\n",
       "        1.10784786e+00,  1.54518457e+00,  1.25041019e-01, -1.03366048e+00,\n",
       "        6.90576174e-01, -8.40655627e-01, -1.64300594e-01,  5.92922741e-01,\n",
       "        2.02689934e+00,  8.76042784e-02,  4.42616162e-01,  6.71058097e-01,\n",
       "        1.92704662e+00,  3.73535622e-01, -5.60193706e-01,  6.54489847e-01,\n",
       "        1.46742043e+00, -1.35734748e+00, -4.46251317e-02, -2.03082940e+00,\n",
       "       -1.21387160e+00,  6.77893382e-01,  2.09439339e+00,  5.65991467e-01,\n",
       "        5.78754986e-02, -4.74025526e-01, -3.32942300e-01,  8.37674988e-02,\n",
       "       -1.43566111e+00,  9.29433679e-01,  1.09042877e+00, -1.67902218e-01,\n",
       "       -1.73349047e+00, -8.53145425e-01, -1.05328367e+00, -1.23230928e-01,\n",
       "        3.65925181e-01, -1.43151015e+00,  6.95016763e-01,  1.14821919e+00,\n",
       "       -1.22368112e+00,  1.68306499e-01,  1.16907331e-01,  4.88892016e-01,\n",
       "       -4.83017569e-01, -2.73617653e+00,  8.09629624e-01,  2.01410768e+00,\n",
       "        1.17055150e+00, -6.16621630e-01, -6.54910125e-01, -2.75960024e-01,\n",
       "        1.14692983e+00, -6.10943554e-01,  6.18188547e-01, -7.45042251e-01,\n",
       "       -1.26876108e+00,  1.63463124e+00, -1.06681717e+00,  6.09288205e-02,\n",
       "        1.85836296e+00, -5.33959323e-01, -8.48921456e-01, -6.20518712e-01,\n",
       "        1.67188152e+00,  1.28820667e-03,  8.02637695e-01,  1.46413175e-01,\n",
       "        1.22916136e+00,  2.73324709e-01,  5.62250305e-01,  5.70314542e-01,\n",
       "        1.19118427e+00, -1.10227627e+00,  8.09850481e-01,  9.03710733e-01,\n",
       "        1.59602053e+00, -2.74645048e-01, -1.11590856e+00, -8.66802552e-01,\n",
       "        6.01955527e-01, -7.49804752e-01, -6.35988629e-01, -5.41958610e-01,\n",
       "       -1.85819144e-02,  1.58291118e+00,  1.21842057e+00, -9.89290613e-02,\n",
       "        3.50149223e-01,  3.91727695e-01, -1.30550419e+00, -7.02534231e-01,\n",
       "        5.38949692e-01, -9.77357726e-01, -1.04235315e+00, -4.32391293e-01,\n",
       "        2.70561932e-01, -8.81556626e-03, -1.14499262e+00, -7.80377080e-01,\n",
       "        7.74393117e-01, -1.75384634e+00, -1.99483488e-01, -6.79399658e-01,\n",
       "        4.39462716e-01,  5.80972775e-01, -1.21770928e+00,  7.56584289e-01,\n",
       "        1.33730909e+00, -8.08630255e-01,  1.11263322e+00,  9.10070371e-01,\n",
       "        6.67491419e-01, -3.90721668e-01,  1.29197518e-01, -1.19852145e+00,\n",
       "        2.34342915e+00,  1.89427399e-02, -5.66167101e-01,  1.18160657e+00,\n",
       "        5.11200690e-01, -7.11353611e-01,  1.80087699e-01,  2.36023631e+00,\n",
       "       -7.82932000e-01, -9.67210392e-01, -4.72792265e-01, -2.29627916e-01,\n",
       "       -5.42715420e-01, -1.17200023e+00,  1.25572724e-01, -1.12871262e+00,\n",
       "        1.54185854e+00, -4.22645662e-01,  2.02659732e+00,  5.89196320e-01,\n",
       "       -6.77376026e-01,  2.61631567e+00,  9.12434887e-01,  1.24023613e+00,\n",
       "       -7.92911279e-01, -1.74948566e+00, -5.72663457e-01, -2.15379484e+00,\n",
       "       -9.58068506e-01,  6.66371911e-01,  7.92641017e-01,  1.80643983e-01,\n",
       "       -7.16828664e-01,  6.49150538e-01,  1.17162533e+00,  8.79621459e-01,\n",
       "        6.27575166e-02,  6.94844307e-01, -7.51368721e-01,  5.31650788e-01,\n",
       "        6.34178190e-01,  6.42695819e-02, -4.56493515e-01, -1.14662470e+00,\n",
       "       -9.55712041e-01,  1.00989892e+00,  9.11835956e-01,  3.76130676e-01,\n",
       "        3.60481206e-01,  1.28697709e-01, -3.30140837e-01, -1.17144931e+00,\n",
       "        1.13870673e+00, -4.91862068e-01,  2.66995407e+00, -9.07658159e-01,\n",
       "        1.74835935e-01,  1.00870679e+00, -4.04126121e-01, -7.49456168e-03,\n",
       "       -1.23493226e-01,  9.15322280e-01,  5.08393357e-03, -3.54705210e-01,\n",
       "        1.06416943e+00, -3.22655401e-01,  2.11445469e-01, -3.13655741e-01,\n",
       "       -9.13193424e-01, -1.35391661e-02, -1.80925355e+00, -2.17258415e+00,\n",
       "        6.81977472e-01,  4.63732260e-01, -1.46358274e+00,  6.77544715e-01,\n",
       "       -2.20774528e-01,  4.90138759e-01, -3.61970318e-01,  6.75888617e-01,\n",
       "       -3.70547176e-01,  1.00487441e+00,  1.16383960e-01, -5.84214631e-02,\n",
       "       -6.35441257e-02,  6.07644072e-01,  7.82412318e-01,  6.11356831e-01,\n",
       "        1.33468330e-01, -8.32122749e-03, -1.25201096e+00, -1.85534465e+00,\n",
       "        3.25405272e+00, -2.37303444e+00, -1.88970708e+00, -4.93996049e-01,\n",
       "        1.20085732e+00, -8.38866368e-01,  3.80603667e-01, -4.67678968e-01,\n",
       "       -1.22972399e+00, -1.64313639e+00, -1.98347866e+00, -2.99804975e-01,\n",
       "        7.35396222e-01, -6.05772227e-01,  1.67696755e+00,  4.11053699e-01,\n",
       "        1.94957084e+00, -8.07654700e-01,  1.67885266e-01, -8.89177178e-01,\n",
       "       -3.62563197e-01, -1.30218890e+00, -5.84375192e-01,  1.29361389e+00,\n",
       "        9.21426916e-01, -1.69545942e-01,  1.16101601e+00,  7.65249380e-01,\n",
       "        2.32443083e+00,  1.45088416e-01,  9.20666889e-01, -4.40852334e-02,\n",
       "       -1.40130106e+00, -1.37456666e+00,  4.01811071e-01,  2.00844352e-02,\n",
       "        4.38549466e-02,  3.73949500e-01,  2.98788056e-02,  3.33624202e-01,\n",
       "        2.70396349e-01, -1.34422200e-01,  1.32310496e+00,  1.91258067e-01,\n",
       "       -1.05853542e+00,  1.36104522e-01,  6.39062404e-01,  1.72253972e-01,\n",
       "       -6.00098031e-01,  1.26035470e+00, -1.17926929e+00, -4.50940965e-01,\n",
       "       -1.03722833e+00,  1.40331188e+00, -4.26073793e-01,  5.55341622e-01,\n",
       "        9.25623159e-01, -1.50302699e-01, -5.05815994e-01, -3.29907679e-02,\n",
       "        4.01086538e-01, -5.88378529e-01, -4.28403599e-01, -1.19081995e+00,\n",
       "        8.99968336e-01, -7.27388964e-01, -3.76430217e-01,  2.96162862e-01,\n",
       "        1.92705455e+00, -4.83814467e-01,  1.13476284e-01, -1.02971255e+00,\n",
       "       -3.40377973e-02, -8.75328299e-01, -1.33702748e+00,  1.89778722e+00,\n",
       "        1.26692723e+00,  1.52287734e-01,  5.21233148e-01, -1.27216336e+00,\n",
       "        4.94216500e-01, -7.59031740e-01, -4.75996965e-01, -9.33942075e-01,\n",
       "        3.39296039e-01, -5.37530633e-01, -3.25459197e-01,  4.84677226e-01,\n",
       "       -6.80224650e-01,  1.33965547e-01,  1.23028394e+00,  2.06809195e+00,\n",
       "        9.34813304e-01,  5.15913674e-01,  1.55586018e+00,  9.57490551e-01,\n",
       "        7.35758261e-02,  8.23326856e-01, -7.13696585e-01,  2.21309572e+00,\n",
       "        2.61902304e+00, -1.33155973e+00, -6.22713350e-01,  1.37903196e-01,\n",
       "       -8.98582082e-01,  2.02918935e+00, -2.84862566e-01,  5.18446902e-01,\n",
       "        1.04400047e+00,  3.66311444e-02,  3.03329484e+00,  4.06574675e-01,\n",
       "        1.03061497e-01,  2.30778373e-01, -6.55324402e-02, -3.13321187e-01,\n",
       "        1.87040001e-01,  1.49692982e+00, -2.89357822e-01, -1.13992351e+00,\n",
       "       -8.57703847e-01,  1.01574587e+00,  5.20443646e-01, -3.33889734e-01,\n",
       "        3.04964867e-01, -6.56730905e-02,  4.42215093e-01,  1.04213363e+00,\n",
       "       -9.75298234e-02, -7.98364009e-01,  1.19270594e+00, -1.96588040e-01,\n",
       "       -4.65660116e-01,  3.98244167e-01,  3.05394783e-01,  5.37265496e-01,\n",
       "        1.97415449e-01, -1.14576142e+00,  1.01372677e+00,  1.68987041e+00,\n",
       "       -3.30270158e-01,  8.62623707e-01,  1.68407255e-01,  2.68412457e-01,\n",
       "       -1.42460308e-01, -6.18048233e-01,  4.98728601e-01,  2.25572902e-02,\n",
       "        6.86309540e-01,  4.42102967e-01, -4.07783833e-01,  1.40654845e-01,\n",
       "       -2.46299302e+00, -8.86584747e-02,  8.55807261e-02,  1.99090446e+00,\n",
       "       -1.84517194e+00, -5.93188772e-01,  8.34557844e-01, -3.30827594e-01,\n",
       "        1.30349404e+00,  1.50932075e+00, -6.77468270e-01,  4.65462443e-01,\n",
       "        8.28244536e-01, -1.17759598e+00,  3.49246736e-01,  8.01218204e-01,\n",
       "        1.39987726e-01, -3.26980565e-01, -1.53271345e+00,  1.11434175e+00,\n",
       "        1.25391619e+00, -6.62897702e-01,  2.51716953e+00, -2.25299190e-01,\n",
       "        6.29490307e-01, -6.18934273e-01, -3.45963729e-01,  1.31436935e+00,\n",
       "        1.15736448e+00, -8.41504569e-01,  2.29716482e-01,  3.70987187e-01,\n",
       "        1.20899535e+00,  1.00689398e+00, -5.40912376e-01,  1.55198371e+00,\n",
       "       -3.79006447e-01, -4.63333657e-01,  1.11736489e-01, -5.24687598e-01,\n",
       "       -5.71041755e-01, -5.69539873e-01,  1.08912170e+00,  1.25733712e+00,\n",
       "       -1.28442655e+00,  2.47932476e-01,  3.46897833e-01,  7.13268038e-01,\n",
       "       -1.80379881e+00, -2.38927689e-01,  3.15012473e-01, -1.14128898e+00,\n",
       "       -9.79413162e-01,  1.27912425e+00,  1.09773081e+00, -1.88847775e+00,\n",
       "       -1.14484718e+00, -1.44170915e+00,  8.48517594e-01,  7.75077704e-01,\n",
       "        1.93435455e-01, -7.19248993e-01,  2.88880402e-01, -3.69909322e-01,\n",
       "       -7.56502077e-01, -4.98947304e-01,  5.49888909e-01,  5.93534911e-01,\n",
       "       -6.88729756e-01,  6.77101606e-01,  4.36870921e-01, -2.57934904e-02,\n",
       "       -4.16378751e-01, -6.92755532e-02,  7.78762687e-01,  3.05066493e-01,\n",
       "        6.16550774e-01,  4.01368983e-01, -7.33171004e-01, -1.42045777e+00,\n",
       "        8.45433489e-01,  7.80924481e-01, -8.62330662e-02, -5.49452199e-01,\n",
       "       -5.29456534e-01, -5.14942299e-01, -7.17499918e-01, -1.80507085e-01,\n",
       "        4.39996113e-01, -1.73637152e+00,  5.41279851e-01, -2.28272451e-02])"
      ]
     },
     "execution_count": 40,
     "metadata": {},
     "output_type": "execute_result"
    }
   ],
   "source": [
    "large_arr"
   ]
  },
  {
   "cell_type": "code",
   "execution_count": 41,
   "id": "33e3d669",
   "metadata": {},
   "outputs": [],
   "source": [
    "large_arr.sort()"
   ]
  },
  {
   "cell_type": "code",
   "execution_count": 42,
   "id": "b97cc0d1",
   "metadata": {},
   "outputs": [
    {
     "data": {
      "text/plain": [
       "array([-2.73617653e+00, -2.72123222e+00, -2.56787139e+00, -2.46299302e+00,\n",
       "       -2.43567614e+00, -2.40136726e+00, -2.37303444e+00, -2.33844281e+00,\n",
       "       -2.18876869e+00, -2.17258415e+00, -2.15379484e+00, -2.12752322e+00,\n",
       "       -2.09220070e+00, -2.03082940e+00, -2.00978191e+00, -2.00464422e+00,\n",
       "       -1.98347866e+00, -1.98243090e+00, -1.89508744e+00, -1.88970708e+00,\n",
       "       -1.88944665e+00, -1.88847775e+00, -1.86335930e+00, -1.85534465e+00,\n",
       "       -1.84517194e+00, -1.84237311e+00, -1.81451496e+00, -1.81123464e+00,\n",
       "       -1.80925355e+00, -1.80489987e+00, -1.80379881e+00, -1.77172900e+00,\n",
       "       -1.75384634e+00, -1.74948566e+00, -1.74848522e+00, -1.73637152e+00,\n",
       "       -1.73349047e+00, -1.72144685e+00, -1.71494748e+00, -1.68868555e+00,\n",
       "       -1.67914639e+00, -1.64313639e+00, -1.62330570e+00, -1.58503681e+00,\n",
       "       -1.56880150e+00, -1.53271345e+00, -1.51351855e+00, -1.48737434e+00,\n",
       "       -1.48472550e+00, -1.48334705e+00, -1.47427409e+00, -1.46358274e+00,\n",
       "       -1.44459537e+00, -1.44170915e+00, -1.43872717e+00, -1.43566111e+00,\n",
       "       -1.43163211e+00, -1.43151015e+00, -1.42735929e+00, -1.42154491e+00,\n",
       "       -1.42045777e+00, -1.41883479e+00, -1.40130106e+00, -1.37456666e+00,\n",
       "       -1.37226968e+00, -1.36228734e+00, -1.35734748e+00, -1.35371313e+00,\n",
       "       -1.33702748e+00, -1.33155973e+00, -1.32810898e+00, -1.30633386e+00,\n",
       "       -1.30550419e+00, -1.30218890e+00, -1.28442655e+00, -1.27816132e+00,\n",
       "       -1.27216336e+00, -1.26876108e+00, -1.25594435e+00, -1.25201096e+00,\n",
       "       -1.25076606e+00, -1.22972399e+00, -1.22643253e+00, -1.22565706e+00,\n",
       "       -1.22368112e+00, -1.21770928e+00, -1.21751102e+00, -1.21566036e+00,\n",
       "       -1.21387160e+00, -1.20810624e+00, -1.20342181e+00, -1.19914849e+00,\n",
       "       -1.19852145e+00, -1.19572908e+00, -1.19135627e+00, -1.19081995e+00,\n",
       "       -1.17926929e+00, -1.17759598e+00, -1.17700186e+00, -1.17200023e+00,\n",
       "       -1.17144931e+00, -1.17132103e+00, -1.16780252e+00, -1.16329819e+00,\n",
       "       -1.15738081e+00, -1.14662470e+00, -1.14576142e+00, -1.14499262e+00,\n",
       "       -1.14484718e+00, -1.14128898e+00, -1.13992351e+00, -1.13463116e+00,\n",
       "       -1.12871262e+00, -1.12702375e+00, -1.11590856e+00, -1.11568104e+00,\n",
       "       -1.11371557e+00, -1.10994980e+00, -1.10975557e+00, -1.10227627e+00,\n",
       "       -1.10198578e+00, -1.08997233e+00, -1.08934244e+00, -1.06681717e+00,\n",
       "       -1.05853542e+00, -1.05328367e+00, -1.05065765e+00, -1.04235315e+00,\n",
       "       -1.04081237e+00, -1.03722833e+00, -1.03563857e+00, -1.03520094e+00,\n",
       "       -1.03436241e+00, -1.03366048e+00, -1.03270747e+00, -1.02971255e+00,\n",
       "       -1.02017494e+00, -1.01629418e+00, -1.01463086e+00, -1.01064077e+00,\n",
       "       -1.00140919e+00, -9.93051692e-01, -9.84032313e-01, -9.79413162e-01,\n",
       "       -9.78841503e-01, -9.77357726e-01, -9.67210392e-01, -9.58068506e-01,\n",
       "       -9.55712041e-01, -9.49806600e-01, -9.44310303e-01, -9.37562043e-01,\n",
       "       -9.33942075e-01, -9.23608474e-01, -9.13193424e-01, -9.08974138e-01,\n",
       "       -9.08670012e-01, -9.07658159e-01, -9.02534820e-01, -9.02122804e-01,\n",
       "       -8.98582082e-01, -8.89177178e-01, -8.83096068e-01, -8.77463664e-01,\n",
       "       -8.76252858e-01, -8.75328299e-01, -8.69579506e-01, -8.66802552e-01,\n",
       "       -8.62012775e-01, -8.57703847e-01, -8.57431270e-01, -8.53145425e-01,\n",
       "       -8.49044908e-01, -8.48921456e-01, -8.48725443e-01, -8.48238731e-01,\n",
       "       -8.41504569e-01, -8.40655627e-01, -8.38866368e-01, -8.29205605e-01,\n",
       "       -8.27522255e-01, -8.26751682e-01, -8.16476863e-01, -8.15602562e-01,\n",
       "       -8.08654676e-01, -8.08630255e-01, -8.07654700e-01, -8.06611491e-01,\n",
       "       -7.98364009e-01, -7.92911279e-01, -7.92868536e-01, -7.82932000e-01,\n",
       "       -7.82763238e-01, -7.80377080e-01, -7.80330944e-01, -7.59031740e-01,\n",
       "       -7.56502077e-01, -7.54255770e-01, -7.51368721e-01, -7.51255730e-01,\n",
       "       -7.50206895e-01, -7.49804752e-01, -7.45701837e-01, -7.45042251e-01,\n",
       "       -7.42022248e-01, -7.39641721e-01, -7.36438233e-01, -7.33171004e-01,\n",
       "       -7.30256878e-01, -7.27388964e-01, -7.20983868e-01, -7.19248993e-01,\n",
       "       -7.19218451e-01, -7.17499918e-01, -7.16901702e-01, -7.16828664e-01,\n",
       "       -7.14221796e-01, -7.13696585e-01, -7.11353611e-01, -7.09016200e-01,\n",
       "       -7.02534231e-01, -7.00010426e-01, -6.97719797e-01, -6.95156732e-01,\n",
       "       -6.88729756e-01, -6.80224650e-01, -6.79596310e-01, -6.79399658e-01,\n",
       "       -6.77468270e-01, -6.77376026e-01, -6.75611341e-01, -6.73608782e-01,\n",
       "       -6.69013907e-01, -6.62897702e-01, -6.61043037e-01, -6.60951466e-01,\n",
       "       -6.54910125e-01, -6.50391901e-01, -6.42954065e-01, -6.37380558e-01,\n",
       "       -6.35988629e-01, -6.22713350e-01, -6.21035209e-01, -6.20518712e-01,\n",
       "       -6.18934273e-01, -6.18048233e-01, -6.16621630e-01, -6.16504330e-01,\n",
       "       -6.15495936e-01, -6.10943554e-01, -6.07897570e-01, -6.06826455e-01,\n",
       "       -6.05772227e-01, -6.03797110e-01, -6.00098031e-01, -5.93278675e-01,\n",
       "       -5.93188772e-01, -5.88378529e-01, -5.85289303e-01, -5.84375192e-01,\n",
       "       -5.84142869e-01, -5.80268961e-01, -5.76235299e-01, -5.73597756e-01,\n",
       "       -5.72663457e-01, -5.71041755e-01, -5.69539873e-01, -5.69485426e-01,\n",
       "       -5.66167101e-01, -5.60900025e-01, -5.60193706e-01, -5.53995731e-01,\n",
       "       -5.49518936e-01, -5.49452199e-01, -5.48767082e-01, -5.46521285e-01,\n",
       "       -5.42715420e-01, -5.41958610e-01, -5.40912376e-01, -5.39055399e-01,\n",
       "       -5.37530633e-01, -5.34215655e-01, -5.33959323e-01, -5.32052449e-01,\n",
       "       -5.30378173e-01, -5.29964383e-01, -5.29456534e-01, -5.24687598e-01,\n",
       "       -5.19767589e-01, -5.15703400e-01, -5.14942299e-01, -5.13673096e-01,\n",
       "       -5.13020503e-01, -5.09771869e-01, -5.06201066e-01, -5.05815994e-01,\n",
       "       -5.04778753e-01, -4.98947304e-01, -4.95715816e-01, -4.93996049e-01,\n",
       "       -4.92236339e-01, -4.91862068e-01, -4.83814467e-01, -4.83017569e-01,\n",
       "       -4.77310312e-01, -4.76067120e-01, -4.75996965e-01, -4.74025526e-01,\n",
       "       -4.72792265e-01, -4.67678968e-01, -4.67551660e-01, -4.65660116e-01,\n",
       "       -4.63333657e-01, -4.60283898e-01, -4.58866617e-01, -4.56493515e-01,\n",
       "       -4.55239574e-01, -4.51445014e-01, -4.50940965e-01, -4.48335720e-01,\n",
       "       -4.46000229e-01, -4.44227335e-01, -4.43209455e-01, -4.37759020e-01,\n",
       "       -4.33740993e-01, -4.32391293e-01, -4.31784227e-01, -4.28403599e-01,\n",
       "       -4.26073793e-01, -4.22645662e-01, -4.21721901e-01, -4.16378751e-01,\n",
       "       -4.12497243e-01, -4.08043563e-01, -4.07783833e-01, -4.04126121e-01,\n",
       "       -3.92087362e-01, -3.91152901e-01, -3.90721668e-01, -3.81980728e-01,\n",
       "       -3.81042613e-01, -3.79006447e-01, -3.76430217e-01, -3.70547176e-01,\n",
       "       -3.69909322e-01, -3.69127753e-01, -3.67359595e-01, -3.63500849e-01,\n",
       "       -3.62563197e-01, -3.61970318e-01, -3.61029907e-01, -3.59962966e-01,\n",
       "       -3.59075688e-01, -3.54705210e-01, -3.51632335e-01, -3.47151996e-01,\n",
       "       -3.47029097e-01, -3.45963729e-01, -3.41706335e-01, -3.33889734e-01,\n",
       "       -3.33243378e-01, -3.32942300e-01, -3.30827594e-01, -3.30270158e-01,\n",
       "       -3.30140837e-01, -3.26980565e-01, -3.25459197e-01, -3.23153577e-01,\n",
       "       -3.22655401e-01, -3.20443213e-01, -3.17231971e-01, -3.13655741e-01,\n",
       "       -3.13321187e-01, -3.06426495e-01, -3.01089669e-01, -2.99804975e-01,\n",
       "       -2.93989236e-01, -2.89357822e-01, -2.84862566e-01, -2.75960024e-01,\n",
       "       -2.74645048e-01, -2.61627573e-01, -2.53071402e-01, -2.52450535e-01,\n",
       "       -2.50658963e-01, -2.43803782e-01, -2.39128132e-01, -2.38927689e-01,\n",
       "       -2.37781001e-01, -2.35990642e-01, -2.30365861e-01, -2.29627916e-01,\n",
       "       -2.26549844e-01, -2.25299190e-01, -2.20774528e-01, -2.19128630e-01,\n",
       "       -2.10518869e-01, -2.05965599e-01, -2.05592818e-01, -2.01502390e-01,\n",
       "       -2.00967473e-01, -2.00309755e-01, -1.99483488e-01, -1.96588040e-01,\n",
       "       -1.92958025e-01, -1.89543414e-01, -1.80507085e-01, -1.79644012e-01,\n",
       "       -1.74486053e-01, -1.72610107e-01, -1.69545942e-01, -1.67902218e-01,\n",
       "       -1.65243009e-01, -1.64654142e-01, -1.64300594e-01, -1.56717838e-01,\n",
       "       -1.51387441e-01, -1.50302699e-01, -1.47642012e-01, -1.43047075e-01,\n",
       "       -1.42460308e-01, -1.41829747e-01, -1.34422200e-01, -1.29291053e-01,\n",
       "       -1.26791904e-01, -1.26351076e-01, -1.26151968e-01, -1.24230706e-01,\n",
       "       -1.23493226e-01, -1.23230928e-01, -1.18293788e-01, -1.04139250e-01,\n",
       "       -1.03482633e-01, -9.89290613e-02, -9.87993670e-02, -9.75298234e-02,\n",
       "       -9.65644353e-02, -9.02272183e-02, -8.86584747e-02, -8.77610169e-02,\n",
       "       -8.62330662e-02, -8.01814314e-02, -7.69262504e-02, -6.92755532e-02,\n",
       "       -6.87560838e-02, -6.56730905e-02, -6.55324402e-02, -6.35441257e-02,\n",
       "       -6.32013007e-02, -5.90602024e-02, -5.84214631e-02, -4.46251317e-02,\n",
       "       -4.40852334e-02, -4.12912573e-02, -3.40377973e-02, -3.29907679e-02,\n",
       "       -3.27143101e-02, -2.78154144e-02, -2.57934904e-02, -2.28272451e-02,\n",
       "       -1.85819144e-02, -1.35391661e-02, -8.81556626e-03, -8.32122749e-03,\n",
       "       -8.17595307e-03, -7.49456168e-03, -3.70189201e-03, -1.67659547e-03,\n",
       "        1.28820667e-03,  5.08393357e-03,  5.38565724e-03,  8.85526079e-03,\n",
       "        1.89427399e-02,  2.00844352e-02,  2.08277096e-02,  2.25572902e-02,\n",
       "        2.41171120e-02,  2.49887156e-02,  2.53677962e-02,  2.98788056e-02,\n",
       "        3.46856870e-02,  3.66311444e-02,  4.19648624e-02,  4.38549466e-02,\n",
       "        4.57706653e-02,  4.85607579e-02,  5.24351697e-02,  5.44494818e-02,\n",
       "        5.76709511e-02,  5.78754986e-02,  5.88748503e-02,  6.09288205e-02,\n",
       "        6.16579500e-02,  6.27575166e-02,  6.42695819e-02,  6.53485134e-02,\n",
       "        6.82773783e-02,  6.82989605e-02,  7.12474149e-02,  7.27636525e-02,\n",
       "        7.28379278e-02,  7.35758261e-02,  7.41228017e-02,  7.41245335e-02,\n",
       "        7.81391969e-02,  7.85243148e-02,  8.37674988e-02,  8.55807261e-02,\n",
       "        8.64653348e-02,  8.76042784e-02,  8.92530541e-02,  9.18080201e-02,\n",
       "        9.42724888e-02,  1.02530345e-01,  1.02697491e-01,  1.03061497e-01,\n",
       "        1.07158505e-01,  1.07489175e-01,  1.09805967e-01,  1.11736489e-01,\n",
       "        1.12040389e-01,  1.12448117e-01,  1.13476284e-01,  1.16383960e-01,\n",
       "        1.16907331e-01,  1.20221460e-01,  1.21416005e-01,  1.21667642e-01,\n",
       "        1.25041019e-01,  1.25572724e-01,  1.28697709e-01,  1.29197518e-01,\n",
       "        1.30525628e-01,  1.33468330e-01,  1.33965547e-01,  1.34998347e-01,\n",
       "        1.36104522e-01,  1.36695033e-01,  1.37903196e-01,  1.39987726e-01,\n",
       "        1.40654845e-01,  1.43668918e-01,  1.45088416e-01,  1.46413175e-01,\n",
       "        1.52287734e-01,  1.52332852e-01,  1.55248958e-01,  1.57271557e-01,\n",
       "        1.67118384e-01,  1.67885266e-01,  1.68306499e-01,  1.68407255e-01,\n",
       "        1.71995016e-01,  1.72253972e-01,  1.74588741e-01,  1.74835935e-01,\n",
       "        1.80087699e-01,  1.80643983e-01,  1.87040001e-01,  1.89598175e-01,\n",
       "        1.91258067e-01,  1.93435455e-01,  1.95837867e-01,  1.97415449e-01,\n",
       "        1.97892114e-01,  2.02097404e-01,  2.03987335e-01,  2.06573723e-01,\n",
       "        2.11445469e-01,  2.25241209e-01,  2.29716482e-01,  2.30778373e-01,\n",
       "        2.38449410e-01,  2.41933999e-01,  2.42235560e-01,  2.47932476e-01,\n",
       "        2.57359778e-01,  2.59822727e-01,  2.61557759e-01,  2.65954296e-01,\n",
       "        2.68412457e-01,  2.70396349e-01,  2.70561932e-01,  2.73324709e-01,\n",
       "        2.76262058e-01,  2.88880402e-01,  2.96162862e-01,  2.96468940e-01,\n",
       "        2.98943257e-01,  2.98978174e-01,  3.04964867e-01,  3.05066493e-01,\n",
       "        3.05394783e-01,  3.06400041e-01,  3.15012473e-01,  3.16413825e-01,\n",
       "        3.17744028e-01,  3.21185969e-01,  3.21696785e-01,  3.23848011e-01,\n",
       "        3.30324639e-01,  3.32490880e-01,  3.33624202e-01,  3.39296039e-01,\n",
       "        3.42483222e-01,  3.43640670e-01,  3.43993289e-01,  3.45115838e-01,\n",
       "        3.45612411e-01,  3.46897833e-01,  3.49246736e-01,  3.50000504e-01,\n",
       "        3.50149223e-01,  3.50563130e-01,  3.52585933e-01,  3.53604233e-01,\n",
       "        3.60101705e-01,  3.60481206e-01,  3.61218520e-01,  3.61771250e-01,\n",
       "        3.64075400e-01,  3.65925181e-01,  3.70987187e-01,  3.73535622e-01,\n",
       "        3.73949500e-01,  3.75113476e-01,  3.76130676e-01,  3.80603667e-01,\n",
       "        3.80818671e-01,  3.89389168e-01,  3.91258763e-01,  3.91727695e-01,\n",
       "        3.98244167e-01,  3.99706810e-01,  4.01086538e-01,  4.01368983e-01,\n",
       "        4.01811071e-01,  4.05205465e-01,  4.06574675e-01,  4.09023897e-01,\n",
       "        4.11053699e-01,  4.11952948e-01,  4.15967855e-01,  4.22309445e-01,\n",
       "        4.23269874e-01,  4.26359709e-01,  4.34278391e-01,  4.34600108e-01,\n",
       "        4.34935958e-01,  4.36870921e-01,  4.39462716e-01,  4.39996113e-01,\n",
       "        4.40278867e-01,  4.42102967e-01,  4.42215093e-01,  4.42616162e-01,\n",
       "        4.52352210e-01,  4.62766148e-01,  4.63313421e-01,  4.63732260e-01,\n",
       "        4.65462443e-01,  4.68082497e-01,  4.68598590e-01,  4.69733003e-01,\n",
       "        4.83557706e-01,  4.84677226e-01,  4.88545607e-01,  4.88892016e-01,\n",
       "        4.90138759e-01,  4.91303734e-01,  4.94216500e-01,  4.95067249e-01,\n",
       "        4.98728601e-01,  4.99152362e-01,  5.02813169e-01,  5.04588447e-01,\n",
       "        5.11200690e-01,  5.15913674e-01,  5.18446902e-01,  5.18786622e-01,\n",
       "        5.19984989e-01,  5.20443646e-01,  5.21233148e-01,  5.26844245e-01,\n",
       "        5.30050048e-01,  5.31650788e-01,  5.34476832e-01,  5.37265496e-01,\n",
       "        5.38949692e-01,  5.39990079e-01,  5.41279851e-01,  5.48140309e-01,\n",
       "        5.49888909e-01,  5.52826426e-01,  5.53320473e-01,  5.54478670e-01,\n",
       "        5.55341622e-01,  5.62250305e-01,  5.65991467e-01,  5.70314542e-01,\n",
       "        5.80972775e-01,  5.86398360e-01,  5.89196320e-01,  5.89470729e-01,\n",
       "        5.92922741e-01,  5.93534911e-01,  6.01955527e-01,  6.06907906e-01,\n",
       "        6.07644072e-01,  6.11356831e-01,  6.13118861e-01,  6.14115724e-01,\n",
       "        6.16550774e-01,  6.18039681e-01,  6.18188547e-01,  6.29490307e-01,\n",
       "        6.30640844e-01,  6.31701014e-01,  6.34178190e-01,  6.39062404e-01,\n",
       "        6.39309218e-01,  6.42994824e-01,  6.49150538e-01,  6.54489847e-01,\n",
       "        6.66371911e-01,  6.67491419e-01,  6.70309684e-01,  6.71058097e-01,\n",
       "        6.75888617e-01,  6.77101606e-01,  6.77544715e-01,  6.77893382e-01,\n",
       "        6.81977472e-01,  6.83156375e-01,  6.86309540e-01,  6.86412253e-01,\n",
       "        6.90576174e-01,  6.94844307e-01,  6.95016763e-01,  7.07316361e-01,\n",
       "        7.13268038e-01,  7.16001284e-01,  7.29681832e-01,  7.35396222e-01,\n",
       "        7.40703868e-01,  7.40874287e-01,  7.41791736e-01,  7.42615821e-01,\n",
       "        7.56082482e-01,  7.56584289e-01,  7.65249380e-01,  7.66144578e-01,\n",
       "        7.68380823e-01,  7.69148259e-01,  7.74393117e-01,  7.75077704e-01,\n",
       "        7.77916391e-01,  7.78762687e-01,  7.80924481e-01,  7.82133543e-01,\n",
       "        7.82412318e-01,  7.84162216e-01,  7.84792329e-01,  7.88044433e-01,\n",
       "        7.89944026e-01,  7.92641017e-01,  7.98232289e-01,  8.01218204e-01,\n",
       "        8.02637695e-01,  8.03773705e-01,  8.05359219e-01,  8.07351849e-01,\n",
       "        8.09629624e-01,  8.09850481e-01,  8.23326856e-01,  8.28244536e-01,\n",
       "        8.28587875e-01,  8.34557844e-01,  8.45179655e-01,  8.45433489e-01,\n",
       "        8.47587399e-01,  8.48517594e-01,  8.52248782e-01,  8.59396897e-01,\n",
       "        8.62623707e-01,  8.63983736e-01,  8.66894384e-01,  8.76989029e-01,\n",
       "        8.79621459e-01,  8.84527233e-01,  8.98667411e-01,  8.99968336e-01,\n",
       "        9.00800650e-01,  9.01889768e-01,  9.02563757e-01,  9.03710733e-01,\n",
       "        9.10070371e-01,  9.11835956e-01,  9.12434887e-01,  9.14245985e-01,\n",
       "        9.15322280e-01,  9.17651508e-01,  9.19077495e-01,  9.20363213e-01,\n",
       "        9.20666889e-01,  9.21426916e-01,  9.25623159e-01,  9.29433679e-01,\n",
       "        9.31506682e-01,  9.32062476e-01,  9.32112838e-01,  9.32146097e-01,\n",
       "        9.34813304e-01,  9.36364905e-01,  9.36689216e-01,  9.38099287e-01,\n",
       "        9.47445765e-01,  9.49558375e-01,  9.57490551e-01,  9.65915479e-01,\n",
       "        9.69047731e-01,  9.74747886e-01,  9.87811951e-01,  9.93733142e-01,\n",
       "        1.00386044e+00,  1.00487441e+00,  1.00689398e+00,  1.00870679e+00,\n",
       "        1.00989892e+00,  1.01276914e+00,  1.01372677e+00,  1.01574587e+00,\n",
       "        1.01682868e+00,  1.01952370e+00,  1.02546999e+00,  1.02650691e+00,\n",
       "        1.03238738e+00,  1.03832223e+00,  1.04213363e+00,  1.04400047e+00,\n",
       "        1.04918081e+00,  1.06019403e+00,  1.06416943e+00,  1.06649496e+00,\n",
       "        1.06660586e+00,  1.07058755e+00,  1.07340211e+00,  1.08912170e+00,\n",
       "        1.09042877e+00,  1.09420883e+00,  1.09773081e+00,  1.09976995e+00,\n",
       "        1.10784786e+00,  1.11196733e+00,  1.11263322e+00,  1.11434175e+00,\n",
       "        1.13438430e+00,  1.13835243e+00,  1.13870673e+00,  1.14542551e+00,\n",
       "        1.14692983e+00,  1.14821919e+00,  1.14825903e+00,  1.15736448e+00,\n",
       "        1.16101601e+00,  1.17055150e+00,  1.17162533e+00,  1.17803807e+00,\n",
       "        1.18160657e+00,  1.19118427e+00,  1.19230719e+00,  1.19270594e+00,\n",
       "        1.19273324e+00,  1.20085732e+00,  1.20899535e+00,  1.21704206e+00,\n",
       "        1.21842057e+00,  1.22613802e+00,  1.22916136e+00,  1.22950256e+00,\n",
       "        1.23028394e+00,  1.23120511e+00,  1.23787007e+00,  1.24023613e+00,\n",
       "        1.24349539e+00,  1.24608639e+00,  1.24732495e+00,  1.25391619e+00,\n",
       "        1.25733712e+00,  1.26035470e+00,  1.26634362e+00,  1.26692723e+00,\n",
       "        1.27006846e+00,  1.27698239e+00,  1.27738621e+00,  1.27912425e+00,\n",
       "        1.29361389e+00,  1.29769071e+00,  1.30023153e+00,  1.30349404e+00,\n",
       "        1.31022230e+00,  1.31051409e+00,  1.31436935e+00,  1.31840249e+00,\n",
       "        1.32310496e+00,  1.32510836e+00,  1.33730909e+00,  1.33935711e+00,\n",
       "        1.37699951e+00,  1.37789510e+00,  1.37932258e+00,  1.39023816e+00,\n",
       "        1.40168096e+00,  1.40331188e+00,  1.40899792e+00,  1.41244919e+00,\n",
       "        1.41797031e+00,  1.44199134e+00,  1.46742043e+00,  1.46753845e+00,\n",
       "        1.48183312e+00,  1.49441669e+00,  1.49692982e+00,  1.49963432e+00,\n",
       "        1.50932075e+00,  1.51112574e+00,  1.51286157e+00,  1.51710936e+00,\n",
       "        1.52315661e+00,  1.52437417e+00,  1.53162964e+00,  1.53414193e+00,\n",
       "        1.53897284e+00,  1.54185854e+00,  1.54518457e+00,  1.54701400e+00,\n",
       "        1.55198371e+00,  1.55586018e+00,  1.58291118e+00,  1.59395870e+00,\n",
       "        1.59602053e+00,  1.60112003e+00,  1.62194590e+00,  1.62374336e+00,\n",
       "        1.63463124e+00,  1.67188152e+00,  1.67696755e+00,  1.68186924e+00,\n",
       "        1.68430833e+00,  1.68987041e+00,  1.69065905e+00,  1.69419140e+00,\n",
       "        1.69955415e+00,  1.71333219e+00,  1.74693945e+00,  1.82252466e+00,\n",
       "        1.83881151e+00,  1.84845108e+00,  1.85677200e+00,  1.85836296e+00,\n",
       "        1.86986581e+00,  1.88103365e+00,  1.89745434e+00,  1.89778722e+00,\n",
       "        1.90946295e+00,  1.92704662e+00,  1.92705455e+00,  1.94957084e+00,\n",
       "        1.95381035e+00,  1.99090446e+00,  1.99210425e+00,  2.01331232e+00,\n",
       "        2.01410768e+00,  2.02659732e+00,  2.02689934e+00,  2.02918935e+00,\n",
       "        2.03671431e+00,  2.05016203e+00,  2.05576110e+00,  2.06398815e+00,\n",
       "        2.06809195e+00,  2.09439339e+00,  2.09739957e+00,  2.12250542e+00,\n",
       "        2.13554686e+00,  2.21309572e+00,  2.32443083e+00,  2.34002209e+00,\n",
       "        2.34342915e+00,  2.36023631e+00,  2.43324177e+00,  2.51716953e+00,\n",
       "        2.52562076e+00,  2.61631567e+00,  2.61902304e+00,  2.66995407e+00,\n",
       "        2.74607997e+00,  3.03329484e+00,  3.18239693e+00,  3.25405272e+00])"
      ]
     },
     "execution_count": 42,
     "metadata": {},
     "output_type": "execute_result"
    }
   ],
   "source": [
    "large_arr"
   ]
  },
  {
   "cell_type": "code",
   "execution_count": 43,
   "id": "9b04682f",
   "metadata": {},
   "outputs": [
    {
     "data": {
      "text/plain": [
       "-1.4742740858180305"
      ]
     },
     "execution_count": 43,
     "metadata": {},
     "output_type": "execute_result"
    }
   ],
   "source": [
    "large_arr[int(0.05*len(large_arr))]"
   ]
  },
  {
   "cell_type": "code",
   "execution_count": 45,
   "id": "71c7a6da",
   "metadata": {},
   "outputs": [
    {
     "data": {
      "text/plain": [
       "50.0"
      ]
     },
     "execution_count": 45,
     "metadata": {},
     "output_type": "execute_result"
    }
   ],
   "source": [
    "0.05*len(large_arr)"
   ]
  },
  {
   "cell_type": "markdown",
   "id": "6092c508",
   "metadata": {},
   "source": [
    "## 4.7 Example: Random walks"
   ]
  },
  {
   "cell_type": "code",
   "execution_count": 50,
   "id": "506e5820",
   "metadata": {},
   "outputs": [],
   "source": [
    "import random\n",
    "import numpy as np\n",
    "from matplotlib import pyplot as plt "
   ]
  },
  {
   "cell_type": "code",
   "execution_count": 55,
   "id": "91d59bc0",
   "metadata": {},
   "outputs": [],
   "source": [
    "position = 0\n",
    "walk = [position]\n",
    "steps = 1000000\n",
    "for i in range(steps):\n",
    "    step = 1 if random.randint(0,1) else -1\n",
    "    position += step\n",
    "    walk.append(position)"
   ]
  },
  {
   "cell_type": "code",
   "execution_count": 60,
   "id": "2be1230c",
   "metadata": {},
   "outputs": [
    {
     "data": {
      "text/plain": [
       "[<matplotlib.lines.Line2D at 0x1e5fd490340>]"
      ]
     },
     "execution_count": 60,
     "metadata": {},
     "output_type": "execute_result"
    },
    {
     "data": {
      "image/png": "[encoded data removed]",
      "text/plain": [
       "<Figure size 432x288 with 1 Axes>"
      ]
     },
     "metadata": {
      "needs_background": "light"
     },
     "output_type": "display_data"
    }
   ],
   "source": [
    "plt.plot(walk[:100])"
   ]
  },
  {
   "cell_type": "code",
   "execution_count": 61,
   "id": "79f597f0",
   "metadata": {},
   "outputs": [],
   "source": [
    "nsteps = 1000"
   ]
  },
  {
   "cell_type": "code",
   "execution_count": 85,
   "id": "69365840",
   "metadata": {},
   "outputs": [],
   "source": [
    "draws = np.random.randint(0,2,nsteps)"
   ]
  },
  {
   "cell_type": "code",
   "execution_count": 86,
   "id": "743f056e",
   "metadata": {},
   "outputs": [
    {
     "data": {
      "text/plain": [
       "array([0, 1, 0, 0, 1, 0, 0, 0, 1, 0, 0, 1, 1, 1, 1, 1, 0, 1, 0, 1, 1, 1,\n",
       "       0, 0, 0, 0, 1, 0, 0, 1, 1, 0, 1, 0, 1, 0, 1, 0, 1, 1, 0, 0, 0, 1,\n",
       "       1, 0, 0, 0, 0, 1, 1, 0, 1, 0, 1, 0, 1, 1, 1, 0, 1, 1, 1, 0, 0, 1,\n",
       "       1, 0, 1, 1, 0, 1, 1, 1, 1, 0, 1, 0, 0, 1, 1, 0, 1, 1, 1, 1, 0, 0,\n",
       "       0, 1, 1, 1, 1, 1, 0, 1, 1, 1, 1, 0, 1, 0, 0, 0, 1, 0, 1, 0, 1, 0,\n",
       "       0, 1, 1, 0, 1, 0, 1, 0, 1, 1, 1, 1, 1, 0, 0, 0, 0, 1, 1, 0, 0, 1,\n",
       "       1, 0, 0, 0, 1, 1, 0, 0, 0, 1, 1, 1, 1, 0, 0, 0, 1, 1, 0, 0, 0, 1,\n",
       "       0, 1, 0, 0, 0, 0, 1, 0, 1, 1, 1, 1, 1, 1, 1, 0, 0, 1, 1, 0, 0, 1,\n",
       "       0, 1, 1, 1, 0, 1, 0, 1, 1, 1, 0, 1, 0, 0, 1, 1, 0, 1, 1, 0, 0, 0,\n",
       "       0, 0, 0, 0, 1, 0, 0, 1, 0, 0, 1, 1, 1, 1, 0, 0, 1, 1, 0, 0, 1, 1,\n",
       "       0, 0, 1, 0, 1, 1, 1, 0, 1, 1, 0, 0, 0, 0, 0, 0, 0, 1, 0, 1, 1, 1,\n",
       "       0, 1, 0, 1, 0, 0, 0, 1, 1, 1, 0, 0, 0, 0, 1, 0, 0, 0, 0, 1, 1, 0,\n",
       "       1, 1, 1, 0, 1, 1, 1, 0, 0, 0, 1, 1, 1, 0, 0, 0, 0, 0, 1, 0, 0, 0,\n",
       "       1, 1, 1, 0, 1, 0, 0, 1, 1, 1, 0, 1, 1, 0, 1, 1, 0, 1, 1, 1, 1, 0,\n",
       "       1, 1, 1, 0, 0, 1, 1, 0, 0, 1, 1, 0, 0, 1, 0, 0, 0, 0, 1, 0, 0, 0,\n",
       "       0, 1, 0, 1, 0, 0, 0, 1, 1, 1, 1, 1, 0, 0, 0, 1, 1, 0, 0, 0, 1, 1,\n",
       "       0, 0, 1, 1, 1, 0, 1, 1, 1, 1, 0, 0, 1, 1, 0, 0, 0, 0, 1, 1, 1, 0,\n",
       "       0, 1, 0, 1, 1, 1, 1, 0, 1, 1, 0, 0, 1, 0, 0, 0, 0, 0, 1, 0, 0, 1,\n",
       "       1, 0, 1, 0, 1, 1, 1, 1, 0, 1, 0, 1, 0, 0, 1, 1, 0, 0, 1, 0, 1, 0,\n",
       "       1, 0, 0, 0, 0, 0, 1, 1, 1, 1, 0, 1, 1, 1, 1, 0, 0, 0, 0, 0, 1, 0,\n",
       "       0, 1, 0, 1, 0, 1, 1, 0, 1, 0, 0, 1, 0, 0, 1, 1, 1, 1, 1, 1, 1, 0,\n",
       "       1, 1, 0, 0, 1, 1, 1, 0, 0, 0, 1, 0, 1, 1, 0, 0, 1, 0, 1, 0, 0, 1,\n",
       "       1, 1, 0, 0, 1, 0, 1, 0, 1, 1, 0, 0, 1, 0, 1, 1, 0, 0, 0, 0, 1, 0,\n",
       "       0, 1, 1, 0, 0, 0, 1, 1, 1, 0, 0, 1, 1, 1, 0, 0, 1, 0, 0, 1, 0, 0,\n",
       "       0, 1, 1, 1, 1, 0, 0, 0, 1, 1, 0, 0, 0, 1, 0, 1, 1, 0, 0, 1, 1, 1,\n",
       "       0, 0, 0, 0, 0, 0, 1, 1, 0, 0, 1, 1, 0, 0, 0, 1, 1, 0, 0, 1, 1, 1,\n",
       "       0, 1, 0, 0, 1, 1, 0, 1, 0, 0, 0, 0, 1, 1, 0, 0, 0, 0, 1, 1, 0, 0,\n",
       "       0, 0, 0, 1, 1, 1, 1, 1, 0, 0, 0, 1, 0, 1, 1, 1, 1, 1, 1, 0, 0, 0,\n",
       "       1, 0, 1, 1, 1, 1, 1, 0, 1, 1, 1, 1, 0, 1, 1, 0, 0, 0, 0, 0, 0, 0,\n",
       "       1, 1, 0, 1, 1, 0, 1, 1, 0, 0, 1, 1, 1, 0, 0, 1, 0, 0, 1, 0, 1, 0,\n",
       "       1, 1, 0, 1, 1, 0, 0, 0, 0, 1, 0, 0, 1, 0, 0, 1, 1, 1, 1, 1, 1, 1,\n",
       "       1, 1, 0, 0, 0, 0, 0, 1, 1, 1, 1, 0, 0, 1, 1, 1, 0, 1, 1, 1, 1, 1,\n",
       "       0, 0, 1, 0, 1, 1, 1, 1, 0, 1, 1, 1, 1, 1, 0, 0, 1, 1, 0, 1, 1, 1,\n",
       "       0, 0, 0, 0, 1, 0, 0, 1, 1, 1, 0, 1, 0, 0, 1, 0, 1, 1, 1, 0, 1, 1,\n",
       "       0, 0, 1, 1, 1, 0, 0, 0, 0, 1, 0, 0, 1, 0, 1, 1, 0, 0, 0, 0, 0, 1,\n",
       "       1, 1, 0, 0, 1, 0, 0, 0, 0, 0, 1, 0, 0, 0, 0, 1, 1, 1, 0, 1, 1, 1,\n",
       "       1, 1, 1, 0, 1, 0, 0, 1, 1, 0, 1, 0, 0, 1, 0, 1, 0, 0, 1, 1, 1, 1,\n",
       "       1, 0, 1, 0, 1, 0, 1, 1, 1, 0, 0, 0, 1, 0, 0, 0, 0, 1, 1, 0, 0, 0,\n",
       "       1, 1, 1, 0, 0, 0, 1, 1, 0, 0, 0, 0, 0, 1, 0, 1, 1, 1, 1, 0, 0, 1,\n",
       "       0, 1, 0, 1, 0, 0, 0, 1, 1, 1, 1, 1, 1, 1, 1, 1, 1, 0, 0, 0, 1, 1,\n",
       "       0, 1, 1, 1, 1, 1, 1, 0, 1, 0, 0, 1, 1, 1, 0, 0, 1, 1, 0, 0, 1, 1,\n",
       "       1, 0, 0, 0, 1, 0, 1, 1, 0, 1, 0, 0, 0, 0, 1, 1, 0, 1, 0, 0, 1, 0,\n",
       "       1, 0, 1, 1, 0, 1, 0, 1, 1, 1, 0, 0, 0, 1, 1, 1, 1, 0, 1, 0, 0, 1,\n",
       "       0, 0, 1, 1, 1, 0, 1, 1, 1, 1, 1, 1, 0, 1, 0, 0, 0, 0, 1, 1, 0, 0,\n",
       "       1, 0, 1, 0, 1, 0, 0, 0, 1, 0, 0, 0, 1, 0, 0, 0, 0, 1, 0, 0, 0, 1,\n",
       "       1, 1, 1, 0, 1, 1, 1, 0, 0, 1])"
      ]
     },
     "execution_count": 86,
     "metadata": {},
     "output_type": "execute_result"
    }
   ],
   "source": [
    "draws"
   ]
  },
  {
   "cell_type": "code",
   "execution_count": 87,
   "id": "5cf2ef07",
   "metadata": {},
   "outputs": [],
   "source": [
    "steps = np.where(draws > 0,1,-1)"
   ]
  },
  {
   "cell_type": "code",
   "execution_count": 88,
   "id": "f39bb5e6",
   "metadata": {},
   "outputs": [
    {
     "data": {
      "text/plain": [
       "array([-1,  1, -1, -1,  1, -1, -1, -1,  1, -1, -1,  1,  1,  1,  1,  1, -1,\n",
       "        1, -1,  1,  1,  1, -1, -1, -1, -1,  1, -1, -1,  1,  1, -1,  1, -1,\n",
       "        1, -1,  1, -1,  1,  1, -1, -1, -1,  1,  1, -1, -1, -1, -1,  1,  1,\n",
       "       -1,  1, -1,  1, -1,  1,  1,  1, -1,  1,  1,  1, -1, -1,  1,  1, -1,\n",
       "        1,  1, -1,  1,  1,  1,  1, -1,  1, -1, -1,  1,  1, -1,  1,  1,  1,\n",
       "        1, -1, -1, -1,  1,  1,  1,  1,  1, -1,  1,  1,  1,  1, -1,  1, -1,\n",
       "       -1, -1,  1, -1,  1, -1,  1, -1, -1,  1,  1, -1,  1, -1,  1, -1,  1,\n",
       "        1,  1,  1,  1, -1, -1, -1, -1,  1,  1, -1, -1,  1,  1, -1, -1, -1,\n",
       "        1,  1, -1, -1, -1,  1,  1,  1,  1, -1, -1, -1,  1,  1, -1, -1, -1,\n",
       "        1, -1,  1, -1, -1, -1, -1,  1, -1,  1,  1,  1,  1,  1,  1,  1, -1,\n",
       "       -1,  1,  1, -1, -1,  1, -1,  1,  1,  1, -1,  1, -1,  1,  1,  1, -1,\n",
       "        1, -1, -1,  1,  1, -1,  1,  1, -1, -1, -1, -1, -1, -1, -1,  1, -1,\n",
       "       -1,  1, -1, -1,  1,  1,  1,  1, -1, -1,  1,  1, -1, -1,  1,  1, -1,\n",
       "       -1,  1, -1,  1,  1,  1, -1,  1,  1, -1, -1, -1, -1, -1, -1, -1,  1,\n",
       "       -1,  1,  1,  1, -1,  1, -1,  1, -1, -1, -1,  1,  1,  1, -1, -1, -1,\n",
       "       -1,  1, -1, -1, -1, -1,  1,  1, -1,  1,  1,  1, -1,  1,  1,  1, -1,\n",
       "       -1, -1,  1,  1,  1, -1, -1, -1, -1, -1,  1, -1, -1, -1,  1,  1,  1,\n",
       "       -1,  1, -1, -1,  1,  1,  1, -1,  1,  1, -1,  1,  1, -1,  1,  1,  1,\n",
       "        1, -1,  1,  1,  1, -1, -1,  1,  1, -1, -1,  1,  1, -1, -1,  1, -1,\n",
       "       -1, -1, -1,  1, -1, -1, -1, -1,  1, -1,  1, -1, -1, -1,  1,  1,  1,\n",
       "        1,  1, -1, -1, -1,  1,  1, -1, -1, -1,  1,  1, -1, -1,  1,  1,  1,\n",
       "       -1,  1,  1,  1,  1, -1, -1,  1,  1, -1, -1, -1, -1,  1,  1,  1, -1,\n",
       "       -1,  1, -1,  1,  1,  1,  1, -1,  1,  1, -1, -1,  1, -1, -1, -1, -1,\n",
       "       -1,  1, -1, -1,  1,  1, -1,  1, -1,  1,  1,  1,  1, -1,  1, -1,  1,\n",
       "       -1, -1,  1,  1, -1, -1,  1, -1,  1, -1,  1, -1, -1, -1, -1, -1,  1,\n",
       "        1,  1,  1, -1,  1,  1,  1,  1, -1, -1, -1, -1, -1,  1, -1, -1,  1,\n",
       "       -1,  1, -1,  1,  1, -1,  1, -1, -1,  1, -1, -1,  1,  1,  1,  1,  1,\n",
       "        1,  1, -1,  1,  1, -1, -1,  1,  1,  1, -1, -1, -1,  1, -1,  1,  1,\n",
       "       -1, -1,  1, -1,  1, -1, -1,  1,  1,  1, -1, -1,  1, -1,  1, -1,  1,\n",
       "        1, -1, -1,  1, -1,  1,  1, -1, -1, -1, -1,  1, -1, -1,  1,  1, -1,\n",
       "       -1, -1,  1,  1,  1, -1, -1,  1,  1,  1, -1, -1,  1, -1, -1,  1, -1,\n",
       "       -1, -1,  1,  1,  1,  1, -1, -1, -1,  1,  1, -1, -1, -1,  1, -1,  1,\n",
       "        1, -1, -1,  1,  1,  1, -1, -1, -1, -1, -1, -1,  1,  1, -1, -1,  1,\n",
       "        1, -1, -1, -1,  1,  1, -1, -1,  1,  1,  1, -1,  1, -1, -1,  1,  1,\n",
       "       -1,  1, -1, -1, -1, -1,  1,  1, -1, -1, -1, -1,  1,  1, -1, -1, -1,\n",
       "       -1, -1,  1,  1,  1,  1,  1, -1, -1, -1,  1, -1,  1,  1,  1,  1,  1,\n",
       "        1, -1, -1, -1,  1, -1,  1,  1,  1,  1,  1, -1,  1,  1,  1,  1, -1,\n",
       "        1,  1, -1, -1, -1, -1, -1, -1, -1,  1,  1, -1,  1,  1, -1,  1,  1,\n",
       "       -1, -1,  1,  1,  1, -1, -1,  1, -1, -1,  1, -1,  1, -1,  1,  1, -1,\n",
       "        1,  1, -1, -1, -1, -1,  1, -1, -1,  1, -1, -1,  1,  1,  1,  1,  1,\n",
       "        1,  1,  1,  1, -1, -1, -1, -1, -1,  1,  1,  1,  1, -1, -1,  1,  1,\n",
       "        1, -1,  1,  1,  1,  1,  1, -1, -1,  1, -1,  1,  1,  1,  1, -1,  1,\n",
       "        1,  1,  1,  1, -1, -1,  1,  1, -1,  1,  1,  1, -1, -1, -1, -1,  1,\n",
       "       -1, -1,  1,  1,  1, -1,  1, -1, -1,  1, -1,  1,  1,  1, -1,  1,  1,\n",
       "       -1, -1,  1,  1,  1, -1, -1, -1, -1,  1, -1, -1,  1, -1,  1,  1, -1,\n",
       "       -1, -1, -1, -1,  1,  1,  1, -1, -1,  1, -1, -1, -1, -1, -1,  1, -1,\n",
       "       -1, -1, -1,  1,  1,  1, -1,  1,  1,  1,  1,  1,  1, -1,  1, -1, -1,\n",
       "        1,  1, -1,  1, -1, -1,  1, -1,  1, -1, -1,  1,  1,  1,  1,  1, -1,\n",
       "        1, -1,  1, -1,  1,  1,  1, -1, -1, -1,  1, -1, -1, -1, -1,  1,  1,\n",
       "       -1, -1, -1,  1,  1,  1, -1, -1, -1,  1,  1, -1, -1, -1, -1, -1,  1,\n",
       "       -1,  1,  1,  1,  1, -1, -1,  1, -1,  1, -1,  1, -1, -1, -1,  1,  1,\n",
       "        1,  1,  1,  1,  1,  1,  1,  1, -1, -1, -1,  1,  1, -1,  1,  1,  1,\n",
       "        1,  1,  1, -1,  1, -1, -1,  1,  1,  1, -1, -1,  1,  1, -1, -1,  1,\n",
       "        1,  1, -1, -1, -1,  1, -1,  1,  1, -1,  1, -1, -1, -1, -1,  1,  1,\n",
       "       -1,  1, -1, -1,  1, -1,  1, -1,  1,  1, -1,  1, -1,  1,  1,  1, -1,\n",
       "       -1, -1,  1,  1,  1,  1, -1,  1, -1, -1,  1, -1, -1,  1,  1,  1, -1,\n",
       "        1,  1,  1,  1,  1,  1, -1,  1, -1, -1, -1, -1,  1,  1, -1, -1,  1,\n",
       "       -1,  1, -1,  1, -1, -1, -1,  1, -1, -1, -1,  1, -1, -1, -1, -1,  1,\n",
       "       -1, -1, -1,  1,  1,  1,  1, -1,  1,  1,  1, -1, -1,  1])"
      ]
     },
     "execution_count": 88,
     "metadata": {},
     "output_type": "execute_result"
    }
   ],
   "source": [
    "steps"
   ]
  },
  {
   "cell_type": "code",
   "execution_count": 89,
   "id": "59838e96",
   "metadata": {},
   "outputs": [],
   "source": [
    "walk = steps.cumsum()"
   ]
  },
  {
   "cell_type": "code",
   "execution_count": 90,
   "id": "05e9b584",
   "metadata": {},
   "outputs": [
    {
     "data": {
      "text/plain": [
       "32"
      ]
     },
     "execution_count": 90,
     "metadata": {},
     "output_type": "execute_result"
    }
   ],
   "source": [
    "walk.max()"
   ]
  },
  {
   "cell_type": "code",
   "execution_count": 91,
   "id": "8e1307ee",
   "metadata": {},
   "outputs": [
    {
     "data": {
      "text/plain": [
       "-5"
      ]
     },
     "execution_count": 91,
     "metadata": {},
     "output_type": "execute_result"
    }
   ],
   "source": [
    "walk.min()"
   ]
  },
  {
   "cell_type": "code",
   "execution_count": null,
   "id": "e398a429",
   "metadata": {},
   "outputs": [],
   "source": []
  }
 ],
 "metadata": {
  "kernelspec": {
   "display_name": "Python 3",
   "language": "python",
   "name": "python3"
  },
  "language_info": {
   "codemirror_mode": {
    "name": "ipython",
    "version": 3
   },
   "file_extension": ".py",
   "mimetype": "text/x-python",
   "name": "python",
   "nbconvert_exporter": "python",
   "pygments_lexer": "ipython3",
   "version": "3.9.2"
  }
 },
 "nbformat": 4,
 "nbformat_minor": 5
}

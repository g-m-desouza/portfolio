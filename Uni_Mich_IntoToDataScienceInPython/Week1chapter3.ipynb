{
 "cells": [
  {
   "cell_type": "markdown",
   "id": "599b1cea",
   "metadata": {},
   "source": [
    "## slicing"
   ]
  },
  {
   "cell_type": "code",
   "execution_count": 17,
   "id": "160c35b5",
   "metadata": {},
   "outputs": [],
   "source": [
    "x = \"Hell\""
   ]
  },
  {
   "cell_type": "code",
   "execution_count": 18,
   "id": "1a253b11",
   "metadata": {},
   "outputs": [
    {
     "name": "stdout",
     "output_type": "stream",
     "text": [
      "e\n"
     ]
    }
   ],
   "source": [
    "print(x[-1])"
   ]
  },
  {
   "cell_type": "markdown",
   "id": "ac0b6e11",
   "metadata": {},
   "source": [
    "## enumerate"
   ]
  },
  {
   "cell_type": "code",
   "execution_count": 28,
   "id": "c42a1b66",
   "metadata": {},
   "outputs": [],
   "source": [
    "some_list = [\"Apples\", \"Bananas\", \"Chiku\",]\n",
    "mapping = {}\n",
    "for i,v in enumerate(some_list):\n",
    "    mapping[v] = i"
   ]
  },
  {
   "cell_type": "code",
   "execution_count": 29,
   "id": "d03e46c8",
   "metadata": {},
   "outputs": [
    {
     "data": {
      "text/plain": [
       "{'Apples': 0, 'Bananas': 1, 'Chiku': 2}"
      ]
     },
     "execution_count": 29,
     "metadata": {},
     "output_type": "execute_result"
    }
   ],
   "source": [
    "mapping"
   ]
  },
  {
   "cell_type": "markdown",
   "id": "da3bdba6",
   "metadata": {},
   "source": [
    "## zipping"
   ]
  },
  {
   "cell_type": "code",
   "execution_count": 42,
   "id": "a5937d6e",
   "metadata": {},
   "outputs": [],
   "source": [
    "seq1 = [1,2,3,4,5]\n",
    "seq2 = [\"red\",\"green\",\"blue\",\"orange\",\"purple\"]"
   ]
  },
  {
   "cell_type": "code",
   "execution_count": 44,
   "id": "e8df405b",
   "metadata": {},
   "outputs": [
    {
     "name": "stdout",
     "output_type": "stream",
     "text": [
      "0 = assending, (1, 'red')\n",
      "1 = assending, (2, 'green')\n",
      "2 = assending, (3, 'blue')\n",
      "3 = assending, (4, 'orange')\n",
      "4 = assending, (5, 'purple')\n"
     ]
    }
   ],
   "source": [
    "for digits,colours in enumerate(zip(seq1,seq2)):\n",
    "    print(f'{digits} = assending, {colours}')"
   ]
  },
  {
   "cell_type": "code",
   "execution_count": 57,
   "id": "258e70a3",
   "metadata": {},
   "outputs": [],
   "source": [
    "d1 = {'a': 'some value','b':[1,2,3,4,5],7:'an integer', 5 : 'some value', 'dummy':'another value'}"
   ]
  },
  {
   "cell_type": "code",
   "execution_count": 58,
   "id": "de28ef81",
   "metadata": {},
   "outputs": [
    {
     "data": {
      "text/plain": [
       "'another value'"
      ]
     },
     "execution_count": 58,
     "metadata": {},
     "output_type": "execute_result"
    }
   ],
   "source": [
    "d1.pop('dummy')"
   ]
  },
  {
   "cell_type": "code",
   "execution_count": 62,
   "id": "b76c98a5",
   "metadata": {},
   "outputs": [
    {
     "name": "stdout",
     "output_type": "stream",
     "text": [
      "{'a': 'some value', 'b': [1, 2, 3, 4, 5], 7: 'an integer', 5: 'some value'}\n"
     ]
    }
   ],
   "source": [
    "print(d1)"
   ]
  },
  {
   "cell_type": "code",
   "execution_count": 63,
   "id": "41452573",
   "metadata": {},
   "outputs": [
    {
     "data": {
      "text/plain": [
       "['a', 'b', 7, 5]"
      ]
     },
     "execution_count": 63,
     "metadata": {},
     "output_type": "execute_result"
    }
   ],
   "source": [
    "list(d1.keys())"
   ]
  },
  {
   "cell_type": "code",
   "execution_count": 65,
   "id": "b7126811",
   "metadata": {},
   "outputs": [
    {
     "data": {
      "text/plain": [
       "dict_keys(['a', 'b', 7, 5])"
      ]
     },
     "execution_count": 65,
     "metadata": {},
     "output_type": "execute_result"
    }
   ],
   "source": [
    "d1.keys()"
   ]
  },
  {
   "cell_type": "code",
   "execution_count": 66,
   "id": "785c870d",
   "metadata": {},
   "outputs": [
    {
     "data": {
      "text/plain": [
       "['some value', [1, 2, 3, 4, 5], 'an integer', 'some value']"
      ]
     },
     "execution_count": 66,
     "metadata": {},
     "output_type": "execute_result"
    }
   ],
   "source": [
    "list(d1.values())"
   ]
  },
  {
   "cell_type": "code",
   "execution_count": 67,
   "id": "e02bea28",
   "metadata": {},
   "outputs": [],
   "source": [
    "d2 = {'x':'x-some value','y':'y-some value','z':'z-some value'}"
   ]
  },
  {
   "cell_type": "code",
   "execution_count": 68,
   "id": "751db9a3",
   "metadata": {},
   "outputs": [],
   "source": [
    "mapping = {}\n",
    "for key, value in zip(d1,d2):\n",
    "    mapping[key] = value"
   ]
  },
  {
   "cell_type": "code",
   "execution_count": 69,
   "id": "281779a9",
   "metadata": {},
   "outputs": [
    {
     "data": {
      "text/plain": [
       "{'a': 'x', 'b': 'y', 7: 'z'}"
      ]
     },
     "execution_count": 69,
     "metadata": {},
     "output_type": "execute_result"
    }
   ],
   "source": [
    "mapping"
   ]
  },
  {
   "cell_type": "code",
   "execution_count": 83,
   "id": "0dff2cea",
   "metadata": {},
   "outputs": [],
   "source": [
    "d1.get('z') "
   ]
  },
  {
   "cell_type": "code",
   "execution_count": 80,
   "id": "71d83861",
   "metadata": {},
   "outputs": [
    {
     "data": {
      "text/plain": [
       "'some value'"
      ]
     },
     "execution_count": 80,
     "metadata": {},
     "output_type": "execute_result"
    }
   ],
   "source": [
    "d1.pop('a','nothing')"
   ]
  },
  {
   "cell_type": "code",
   "execution_count": 82,
   "id": "6382d637",
   "metadata": {},
   "outputs": [
    {
     "ename": "KeyError",
     "evalue": "'z'",
     "output_type": "error",
     "traceback": [
      "\u001b[1;31m---------------------------------------------------------------------------\u001b[0m",
      "\u001b[1;31mKeyError\u001b[0m                                  Traceback (most recent call last)",
      "\u001b[1;32m<ipython-input-82-d93f910554bd>\u001b[0m in \u001b[0;36m<module>\u001b[1;34m\u001b[0m\n\u001b[1;32m----> 1\u001b[1;33m \u001b[0md1\u001b[0m\u001b[1;33m.\u001b[0m\u001b[0mpop\u001b[0m\u001b[1;33m(\u001b[0m\u001b[1;34m'z'\u001b[0m\u001b[1;33m)\u001b[0m\u001b[1;33m\u001b[0m\u001b[1;33m\u001b[0m\u001b[0m\n\u001b[0m",
      "\u001b[1;31mKeyError\u001b[0m: 'z'"
     ]
    }
   ],
   "source": [
    "d1.pop('z')"
   ]
  },
  {
   "cell_type": "code",
   "execution_count": 86,
   "id": "2777c654",
   "metadata": {},
   "outputs": [],
   "source": [
    "listofstuff = ['apple','album','aligator','ball','buffalo','bums']"
   ]
  },
  {
   "cell_type": "code",
   "execution_count": 87,
   "id": "37b7ff4d",
   "metadata": {},
   "outputs": [],
   "source": [
    "by_letter = {}"
   ]
  },
  {
   "cell_type": "code",
   "execution_count": 88,
   "id": "8cc1fb2e",
   "metadata": {},
   "outputs": [],
   "source": [
    "for letter in listofstuff:\n",
    "    word = letter[0]\n",
    "    by_letter.setdefault(word,[]).append(letter)"
   ]
  },
  {
   "cell_type": "code",
   "execution_count": 89,
   "id": "7f358315",
   "metadata": {},
   "outputs": [
    {
     "name": "stdout",
     "output_type": "stream",
     "text": [
      "{'a': ['apple', 'album', 'aligator'], 'b': ['ball', 'buffalo', 'bums']}\n"
     ]
    }
   ],
   "source": [
    "print(by_letter)"
   ]
  },
  {
   "cell_type": "code",
   "execution_count": 91,
   "id": "eabbbc5d",
   "metadata": {},
   "outputs": [],
   "source": [
    "some_tuples = [(1,2,3),(4,5,6),(7,8,9)]\n"
   ]
  },
  {
   "cell_type": "code",
   "execution_count": 107,
   "id": "f76f2c64",
   "metadata": {},
   "outputs": [],
   "source": [
    "flattened_x=[]"
   ]
  },
  {
   "cell_type": "code",
   "execution_count": 109,
   "id": "786caeeb",
   "metadata": {},
   "outputs": [],
   "source": [
    "for x in some_tuples:\n",
    "    for x in x:\n",
    "        flattened_x.append(x)"
   ]
  },
  {
   "cell_type": "code",
   "execution_count": 110,
   "id": "92658188",
   "metadata": {},
   "outputs": [
    {
     "data": {
      "text/plain": [
       "[1, 2, 3, 4, 5, 6, 7, 8, 9]"
      ]
     },
     "execution_count": 110,
     "metadata": {},
     "output_type": "execute_result"
    }
   ],
   "source": [
    "flattened_x"
   ]
  },
  {
   "cell_type": "code",
   "execution_count": 1,
   "id": "ab8202ed",
   "metadata": {},
   "outputs": [],
   "source": [
    "def apply_to_list(some_list, f):\n",
    "    return [f(x) for x in some_list]"
   ]
  },
  {
   "cell_type": "code",
   "execution_count": 2,
   "id": "b0ead3e0",
   "metadata": {},
   "outputs": [
    {
     "data": {
      "text/plain": [
       "[8, 0, 2, 10, 12]"
      ]
     },
     "execution_count": 2,
     "metadata": {},
     "output_type": "execute_result"
    }
   ],
   "source": [
    "ints = [4,0,1,5,6]\n",
    "\n",
    "apply_to_list(ints,lambda x:x*2)"
   ]
  },
  {
   "cell_type": "markdown",
   "id": "dfa6a592",
   "metadata": {},
   "source": [
    "## Lambda"
   ]
  },
  {
   "cell_type": "code",
   "execution_count": 3,
   "id": "e7a15df5",
   "metadata": {},
   "outputs": [],
   "source": [
    "def add_numbers(x,y):\n",
    "    return x + y"
   ]
  },
  {
   "cell_type": "code",
   "execution_count": 8,
   "id": "ffd57be6",
   "metadata": {},
   "outputs": [],
   "source": [
    "add_five = lambda x : add_numbers(5,y)"
   ]
  },
  {
   "cell_type": "code",
   "execution_count": 9,
   "id": "0455a325",
   "metadata": {},
   "outputs": [
    {
     "data": {
      "text/plain": [
       "<function __main__.<lambda>(x)>"
      ]
     },
     "execution_count": 9,
     "metadata": {},
     "output_type": "execute_result"
    }
   ],
   "source": [
    "add_five"
   ]
  },
  {
   "cell_type": "markdown",
   "id": "c22a5555",
   "metadata": {},
   "source": [
    "## Yield"
   ]
  },
  {
   "cell_type": "code",
   "execution_count": 24,
   "id": "f4fda0ff",
   "metadata": {},
   "outputs": [],
   "source": [
    "def squares(n=10):\n",
    "    print('Generating squares from 1 to {0}'.format(n**2))\n",
    "    for i in range(1,n + 1):\n",
    "        yield i**2\n",
    "    "
   ]
  },
  {
   "cell_type": "code",
   "execution_count": 25,
   "id": "4fb56ce8",
   "metadata": {},
   "outputs": [],
   "source": [
    "gen = squares()"
   ]
  },
  {
   "cell_type": "code",
   "execution_count": 18,
   "id": "e8946466",
   "metadata": {},
   "outputs": [
    {
     "name": "stdout",
     "output_type": "stream",
     "text": [
      "<generator object squares at 0x000002B5FA02F7B0>\n"
     ]
    }
   ],
   "source": [
    "print(gen)"
   ]
  },
  {
   "cell_type": "code",
   "execution_count": 26,
   "id": "ea61cf34",
   "metadata": {},
   "outputs": [
    {
     "name": "stdout",
     "output_type": "stream",
     "text": [
      "Generating squares from 1 to 100\n",
      "1 4 9 16 25 36 49 64 81 100 "
     ]
    }
   ],
   "source": [
    "for x in gen:\n",
    "    print(x,end=' ')"
   ]
  },
  {
   "cell_type": "code",
   "execution_count": 1,
   "id": "94a5a382",
   "metadata": {},
   "outputs": [],
   "source": [
    "gen = (x ** 2 for x in range(10))"
   ]
  },
  {
   "cell_type": "code",
   "execution_count": 3,
   "id": "8cea309a",
   "metadata": {},
   "outputs": [
    {
     "data": {
      "text/plain": [
       "<generator object <genexpr> at 0x0000018296A97740>"
      ]
     },
     "execution_count": 3,
     "metadata": {},
     "output_type": "execute_result"
    }
   ],
   "source": [
    "gen"
   ]
  },
  {
   "cell_type": "code",
   "execution_count": 4,
   "id": "23f7c541",
   "metadata": {},
   "outputs": [
    {
     "name": "stdout",
     "output_type": "stream",
     "text": [
      "0\n",
      "1\n",
      "4\n",
      "9\n",
      "16\n",
      "25\n",
      "36\n",
      "49\n",
      "64\n",
      "81\n"
     ]
    }
   ],
   "source": [
    "for x in gen:\n",
    "    print(x)"
   ]
  },
  {
   "cell_type": "code",
   "execution_count": 9,
   "id": "9f83c740",
   "metadata": {},
   "outputs": [
    {
     "data": {
      "text/plain": [
       "{0: '0key', 1: '1key', 2: '2key', 3: '3key', 4: '4key'}"
      ]
     },
     "execution_count": 9,
     "metadata": {},
     "output_type": "execute_result"
    }
   ],
   "source": [
    "dict((i,f'{i}key') for i in range(5))"
   ]
  },
  {
   "cell_type": "code",
   "execution_count": null,
   "id": "eebd3868",
   "metadata": {},
   "outputs": [],
   "source": []
  }
 ],
 "metadata": {
  "kernelspec": {
   "display_name": "Python 3",
   "language": "python",
   "name": "python3"
  },
  "language_info": {
   "codemirror_mode": {
    "name": "ipython",
    "version": 3
   },
   "file_extension": ".py",
   "mimetype": "text/x-python",
   "name": "python",
   "nbconvert_exporter": "python",
   "pygments_lexer": "ipython3",
   "version": "3.9.2"
  }
 },
 "nbformat": 4,
 "nbformat_minor": 5
}

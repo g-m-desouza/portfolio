{
 "cells": [
  {
   "cell_type": "code",
   "execution_count": 6,
   "id": "98b4ea35",
   "metadata": {},
   "outputs": [],
   "source": [
    "import re"
   ]
  },
  {
   "cell_type": "code",
   "execution_count": 7,
   "id": "df497138",
   "metadata": {},
   "outputs": [
    {
     "name": "stdout",
     "output_type": "stream",
     "text": [
      "Wonderful!\n"
     ]
    }
   ],
   "source": [
    "text = \"this is a good day\"\n",
    "if re.search(\"good\",text):\n",
    "    print(\"Wonderful!\")\n",
    "else:\n",
    "    print(\"Alas :()\")"
   ]
  },
  {
   "cell_type": "code",
   "execution_count": 8,
   "id": "58537670",
   "metadata": {},
   "outputs": [],
   "source": [
    "text = \"Amy works diligently. Amy gets good grades. Our student Amy is sccessful\""
   ]
  },
  {
   "cell_type": "code",
   "execution_count": 9,
   "id": "8d99df54",
   "metadata": {},
   "outputs": [
    {
     "data": {
      "text/plain": [
       "['', ' works diligently. ', ' gets good grades. Our student ', ' is sccessful']"
      ]
     },
     "execution_count": 9,
     "metadata": {},
     "output_type": "execute_result"
    }
   ],
   "source": [
    "re.split(\"Amy\",text)"
   ]
  },
  {
   "cell_type": "code",
   "execution_count": 10,
   "id": "58bb0a39",
   "metadata": {},
   "outputs": [
    {
     "data": {
      "text/plain": [
       "['Amy', 'Amy', 'Amy']"
      ]
     },
     "execution_count": 10,
     "metadata": {},
     "output_type": "execute_result"
    }
   ],
   "source": [
    "re.findall(\"Amy\",text)"
   ]
  },
  {
   "cell_type": "code",
   "execution_count": 11,
   "id": "0fd3cfd6",
   "metadata": {},
   "outputs": [
    {
     "data": {
      "text/plain": [
       "<re.Match object; span=(0, 3), match='Amy'>"
      ]
     },
     "execution_count": 11,
     "metadata": {},
     "output_type": "execute_result"
    }
   ],
   "source": [
    "re.search(\"Amy\",text)"
   ]
  },
  {
   "cell_type": "code",
   "execution_count": 16,
   "id": "614e7778",
   "metadata": {},
   "outputs": [
    {
     "ename": "TypeError",
     "evalue": "'function' object is not subscriptable",
     "output_type": "error",
     "traceback": [
      "\u001b[1;31m---------------------------------------------------------------------------\u001b[0m",
      "\u001b[1;31mTypeError\u001b[0m                                 Traceback (most recent call last)",
      "\u001b[1;32m<ipython-input-16-f1362cc83ab5>\u001b[0m in \u001b[0;36m<module>\u001b[1;34m\u001b[0m\n\u001b[0;32m      1\u001b[0m \u001b[0mtext\u001b[0m \u001b[1;33m=\u001b[0m \u001b[1;34m'Amy works diligently, Amy gets good grades. Our student amy is succesful'\u001b[0m\u001b[1;33m\u001b[0m\u001b[1;33m\u001b[0m\u001b[0m\n\u001b[1;32m----> 2\u001b[1;33m \u001b[0mre\u001b[0m\u001b[1;33m.\u001b[0m\u001b[0msearch\u001b[0m\u001b[1;33m[\u001b[0m\u001b[1;34m\"^Amy\"\u001b[0m\u001b[1;33m,\u001b[0m\u001b[0mtext\u001b[0m\u001b[1;33m]\u001b[0m\u001b[1;33m\u001b[0m\u001b[1;33m\u001b[0m\u001b[0m\n\u001b[0m",
      "\u001b[1;31mTypeError\u001b[0m: 'function' object is not subscriptable"
     ]
    }
   ],
   "source": [
    "text = 'Amy works diligently, Amy gets good grades. Our student amy is succesful'\n"
   ]
  },
  {
   "cell_type": "code",
   "execution_count": 17,
   "id": "93409ce8",
   "metadata": {},
   "outputs": [
    {
     "data": {
      "text/plain": [
       "<re.Match object; span=(0, 3), match='Amy'>"
      ]
     },
     "execution_count": 17,
     "metadata": {},
     "output_type": "execute_result"
    }
   ],
   "source": [
    "re.search(\"^Amy\",text)"
   ]
  },
  {
   "cell_type": "code",
   "execution_count": 18,
   "id": "0f3bb290",
   "metadata": {},
   "outputs": [
    {
     "ename": "SyntaxError",
     "evalue": "invalid syntax (<ipython-input-18-1d0aa49ebd76>, line 1)",
     "output_type": "error",
     "traceback": [
      "\u001b[1;36m  File \u001b[1;32m\"<ipython-input-18-1d0aa49ebd76>\"\u001b[1;36m, line \u001b[1;32m1\u001b[0m\n\u001b[1;33m    let str = `1st place: Winnie\u001b[0m\n\u001b[1;37m        ^\u001b[0m\n\u001b[1;31mSyntaxError\u001b[0m\u001b[1;31m:\u001b[0m invalid syntax\n"
     ]
    }
   ],
   "source": [
    "let str = `1st place: Winnie\n",
    "2nd place: Piglet\n",
    "3rd place: Eeyore`;\n",
    "\n",
    "alert( str.match(/^\\d/gm) ); // 1, 2, 3"
   ]
  },
  {
   "cell_type": "code",
   "execution_count": 76,
   "id": "90433853",
   "metadata": {},
   "outputs": [],
   "source": [
    "text = \"\"\"\\n\\nthe 1 mouse ran up the ladder to see his lady fair who was waiting him with a cake of chocolate[edit]\\\\\"\"\""
   ]
  },
  {
   "cell_type": "code",
   "execution_count": 59,
   "id": "e39396a5",
   "metadata": {},
   "outputs": [
    {
     "data": {
      "text/plain": [
       "['the 1 mouse ran up the ladder to see his lady fair who was waiting him with a cake of chocolate[edit]']"
      ]
     },
     "execution_count": 59,
     "metadata": {},
     "output_type": "execute_result"
    }
   ],
   "source": [
    "re.findall(\"[\\w ]*\\[edit\\]\",text) #\"\"\"thers needs to be a space [\\w 'space']\"\"\""
   ]
  },
  {
   "cell_type": "code",
   "execution_count": 68,
   "id": "284d94b6",
   "metadata": {},
   "outputs": [
    {
     "name": "stdout",
     "output_type": "stream",
     "text": [
      "the 1 mouse ran up the ladder to see his lady fair who was waiting him with a cake of chocolate\n"
     ]
    }
   ],
   "source": [
    "for title in re.findall(\"[\\w ]*\\[edit\\]\",text):\n",
    "    print(re.split(\"[\\[[]\",title)[0])"
   ]
  },
  {
   "cell_type": "code",
   "execution_count": 78,
   "id": "b50457c8",
   "metadata": {},
   "outputs": [
    {
     "data": {
      "text/plain": [
       "[('chocolate', '[edit]')]"
      ]
     },
     "execution_count": 78,
     "metadata": {},
     "output_type": "execute_result"
    }
   ],
   "source": [
    "re.findall(\"([\\w]*)(\\[edit\\])\",text)"
   ]
  },
  {
   "cell_type": "code",
   "execution_count": null,
   "id": "b33b6ebe",
   "metadata": {},
   "outputs": [],
   "source": []
  }
 ],
 "metadata": {
  "kernelspec": {
   "display_name": "Python 3",
   "language": "python",
   "name": "python3"
  },
  "language_info": {
   "codemirror_mode": {
    "name": "ipython",
    "version": 3
   },
   "file_extension": ".py",
   "mimetype": "text/x-python",
   "name": "python",
   "nbconvert_exporter": "python",
   "pygments_lexer": "ipython3",
   "version": "3.9.2"
  }
 },
 "nbformat": 4,
 "nbformat_minor": 5
}

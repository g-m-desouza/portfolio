{
 "cells": [
  {
   "cell_type": "code",
   "execution_count": 1,
   "id": "98b4ea35",
   "metadata": {},
   "outputs": [],
   "source": [
    "import re"
   ]
  },
  {
   "cell_type": "code",
   "execution_count": 5,
   "id": "df497138",
   "metadata": {},
   "outputs": [
    {
     "name": "stdout",
     "output_type": "stream",
     "text": [
      "Alas :()\n"
     ]
    }
   ],
   "source": [
    "text = \"this is a good day\"\n",
    "if re.search(\"good\",text):\n",
    "    print(\"Wonderful!\")\n",
    "else:\n",
    "    print(\"Alas :()\")"
   ]
  },
  {
   "cell_type": "code",
   "execution_count": 6,
   "id": "58537670",
   "metadata": {},
   "outputs": [],
   "source": [
    "text = \"Amy works diligently. Amy gets good grades. Our student Amy is sccessful\""
   ]
  },
  {
   "cell_type": "code",
   "execution_count": 7,
   "id": "8d99df54",
   "metadata": {},
   "outputs": [
    {
     "data": {
      "text/plain": [
       "['', ' works diligently. ', ' gets good grades. Our student ', ' is sccessful']"
      ]
     },
     "execution_count": 7,
     "metadata": {},
     "output_type": "execute_result"
    }
   ],
   "source": [
    "re.split(\"Amy\",text)"
   ]
  },
  {
   "cell_type": "code",
   "execution_count": 9,
   "id": "58bb0a39",
   "metadata": {},
   "outputs": [
    {
     "data": {
      "text/plain": [
       "['Amy', 'Amy', 'Amy']"
      ]
     },
     "execution_count": 9,
     "metadata": {},
     "output_type": "execute_result"
    }
   ],
   "source": [
    "re.findall(\"Amy\",text)"
   ]
  },
  {
   "cell_type": "code",
   "execution_count": 10,
   "id": "0fd3cfd6",
   "metadata": {},
   "outputs": [
    {
     "data": {
      "text/plain": [
       "<re.Match object; span=(0, 3), match='Amy'>"
      ]
     },
     "execution_count": 10,
     "metadata": {},
     "output_type": "execute_result"
    }
   ],
   "source": [
    "re.search(\"Amy\",text)"
   ]
  },
  {
   "cell_type": "code",
   "execution_count": null,
   "id": "614e7778",
   "metadata": {},
   "outputs": [],
   "source": []
  }
 ],
 "metadata": {
  "kernelspec": {
   "display_name": "Python 3",
   "language": "python",
   "name": "python3"
  },
  "language_info": {
   "codemirror_mode": {
    "name": "ipython",
    "version": 3
   },
   "file_extension": ".py",
   "mimetype": "text/x-python",
   "name": "python",
   "nbconvert_exporter": "python",
   "pygments_lexer": "ipython3",
   "version": "3.9.2"
  }
 },
 "nbformat": 4,
 "nbformat_minor": 5
}
